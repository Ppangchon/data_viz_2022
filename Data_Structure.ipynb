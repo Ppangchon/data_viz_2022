{
  "nbformat": 4,
  "nbformat_minor": 0,
  "metadata": {
    "colab": {
      "name": "Untitled1.ipynb",
      "provenance": [],
      "authorship_tag": "ABX9TyMdFHg/Rod+EQLcDhn9n6T/",
      "include_colab_link": true
    },
    "kernelspec": {
      "name": "python3",
      "display_name": "Python 3"
    },
    "language_info": {
      "name": "python"
    }
  },
  "cells": [
    {
      "cell_type": "markdown",
      "metadata": {
        "id": "view-in-github",
        "colab_type": "text"
      },
      "source": [
        "<a href=\"https://colab.research.google.com/github/Ppangchon/data_viz_2022/blob/main/Data_Structure.ipynb\" target=\"_parent\"><img src=\"https://colab.research.google.com/assets/colab-badge.svg\" alt=\"Open In Colab\"/></a>"
      ]
    },
    {
      "cell_type": "markdown",
      "source": [
        "# Data Structure (โครงสร้างข้อมูล)\n",
        "การเก็บข้อมูลหลายๆตัวไว้ด้วยกันอย่างเป็นระเบียบ"
      ],
      "metadata": {
        "id": "HiH-4MDaYO2A"
      }
    },
    {
      "cell_type": "markdown",
      "source": [
        "## list()\n",
        "\n",
        "- เก็บอะไรก็ได้\n",
        "-ลำดับของการเก็บ มีความสำคัญ"
      ],
      "metadata": {
        "id": "apKuHMJFZazq"
      }
    },
    {
      "cell_type": "code",
      "execution_count": null,
      "metadata": {
        "id": "wpbDlwxHX37B"
      },
      "outputs": [],
      "source": [
        "list_a = [1,2,3,4,5,6] # [ ] square brackets"
      ]
    },
    {
      "cell_type": "code",
      "source": [
        "list_a"
      ],
      "metadata": {
        "colab": {
          "base_uri": "https://localhost:8080/"
        },
        "id": "VxNMfHnAY53d",
        "outputId": "3587f638-0e77-48f6-baa3-68b76bdfa20d"
      },
      "execution_count": null,
      "outputs": [
        {
          "output_type": "execute_result",
          "data": {
            "text/plain": [
              "[1, 2, 3, 4, 5, 6]"
            ]
          },
          "metadata": {},
          "execution_count": 2
        }
      ]
    },
    {
      "cell_type": "code",
      "source": [
        "list_b = ['ab',2,3.14,list_a]"
      ],
      "metadata": {
        "id": "Ehf9QMjYZHf9"
      },
      "execution_count": null,
      "outputs": []
    },
    {
      "cell_type": "code",
      "source": [
        "list_b"
      ],
      "metadata": {
        "colab": {
          "base_uri": "https://localhost:8080/"
        },
        "id": "rKcGWUITZQxc",
        "outputId": "99f514bd-675f-41bd-bb38-b9a0b24ed7fd"
      },
      "execution_count": null,
      "outputs": [
        {
          "output_type": "execute_result",
          "data": {
            "text/plain": [
              "['ab', 2, 3.14, [1, 2, 3, 4, 5, 6]]"
            ]
          },
          "metadata": {},
          "execution_count": 15
        }
      ]
    },
    {
      "cell_type": "markdown",
      "source": [
        "### indexing การชี้สมาชิกใน list ด้วย เลขลำดับของ list"
      ],
      "metadata": {
        "id": "4wKOrY2YanZY"
      }
    },
    {
      "cell_type": "code",
      "source": [
        "list_a[3] # อยากได้สมาชิกตัวที่ 3 "
      ],
      "metadata": {
        "colab": {
          "base_uri": "https://localhost:8080/"
        },
        "id": "4T26LOhIZqVA",
        "outputId": "5fd2819f-87ff-4002-be06-337af45e8774"
      },
      "execution_count": null,
      "outputs": [
        {
          "output_type": "execute_result",
          "data": {
            "text/plain": [
              "4"
            ]
          },
          "metadata": {},
          "execution_count": 16
        }
      ]
    },
    {
      "cell_type": "code",
      "source": [
        "list_b[3]"
      ],
      "metadata": {
        "colab": {
          "base_uri": "https://localhost:8080/"
        },
        "id": "9Pte_pVfZ6rM",
        "outputId": "3dba6111-9897-4492-b394-032b6997ee71"
      },
      "execution_count": null,
      "outputs": [
        {
          "output_type": "execute_result",
          "data": {
            "text/plain": [
              "[1, 2, 3, 4, 5, 6]"
            ]
          },
          "metadata": {},
          "execution_count": 17
        }
      ]
    },
    {
      "cell_type": "code",
      "source": [
        "list_b[3][4] # อยากได้สมาชิกตัวที่ 4 ของตัวมันอีก"
      ],
      "metadata": {
        "colab": {
          "base_uri": "https://localhost:8080/"
        },
        "id": "R64ePsZ3aUZm",
        "outputId": "e2ab4cba-c031-4212-a6bc-9e1b203c338e"
      },
      "execution_count": null,
      "outputs": [
        {
          "output_type": "execute_result",
          "data": {
            "text/plain": [
              "5"
            ]
          },
          "metadata": {},
          "execution_count": 19
        }
      ]
    },
    {
      "cell_type": "code",
      "source": [
        "list_a[6] # เลือกลำดับที่ไม่มีอยู่ใน list"
      ],
      "metadata": {
        "colab": {
          "base_uri": "https://localhost:8080/",
          "height": 165
        },
        "id": "eVs3T52Ia4FR",
        "outputId": "b85fa3f3-eb36-44bd-ef70-0744b31cdf41"
      },
      "execution_count": null,
      "outputs": [
        {
          "output_type": "error",
          "ename": "IndexError",
          "evalue": "ignored",
          "traceback": [
            "\u001b[0;31m---------------------------------------------------------------------------\u001b[0m",
            "\u001b[0;31mIndexError\u001b[0m                                Traceback (most recent call last)",
            "\u001b[0;32m<ipython-input-20-d6b61775e813>\u001b[0m in \u001b[0;36m<module>\u001b[0;34m()\u001b[0m\n\u001b[0;32m----> 1\u001b[0;31m \u001b[0mlist_a\u001b[0m\u001b[0;34m[\u001b[0m\u001b[0;36m6\u001b[0m\u001b[0;34m]\u001b[0m\u001b[0;34m\u001b[0m\u001b[0;34m\u001b[0m\u001b[0m\n\u001b[0m",
            "\u001b[0;31mIndexError\u001b[0m: list index out of range"
          ]
        }
      ]
    },
    {
      "cell_type": "code",
      "source": [
        "list_a[-1] # index -1 คือตัวสุดท้ายของ list"
      ],
      "metadata": {
        "colab": {
          "base_uri": "https://localhost:8080/"
        },
        "id": "WgvcmsOjbFWq",
        "outputId": "73a2d1e4-1f38-4ec1-bacb-9fc0820e2da6"
      },
      "execution_count": null,
      "outputs": [
        {
          "output_type": "execute_result",
          "data": {
            "text/plain": [
              "6"
            ]
          },
          "metadata": {},
          "execution_count": 21
        }
      ]
    },
    {
      "cell_type": "code",
      "source": [
        "list_a[-4] # นับจากหลังมา"
      ],
      "metadata": {
        "colab": {
          "base_uri": "https://localhost:8080/"
        },
        "id": "YNWDUpJ7bgFo",
        "outputId": "c5c9ae0b-106b-4851-ca8b-2320725989dc"
      },
      "execution_count": null,
      "outputs": [
        {
          "output_type": "execute_result",
          "data": {
            "text/plain": [
              "3"
            ]
          },
          "metadata": {},
          "execution_count": 22
        }
      ]
    },
    {
      "cell_type": "markdown",
      "source": [
        "### การสร้าง list()"
      ],
      "metadata": {
        "id": "HpXWFkBlbxTv"
      }
    },
    {
      "cell_type": "code",
      "source": [
        "list_x1 = [] # แบบที่ 1\n",
        "list_x2 = list() # แบบที่ 2"
      ],
      "metadata": {
        "id": "DJ2k37FfbsBV"
      },
      "execution_count": null,
      "outputs": []
    },
    {
      "cell_type": "code",
      "source": [
        "print(list_x1)\n",
        "print(list_x2)"
      ],
      "metadata": {
        "colab": {
          "base_uri": "https://localhost:8080/"
        },
        "id": "JcOnaJyCdSU4",
        "outputId": "929eb513-c68c-4034-f5b2-59f023f91b36"
      },
      "execution_count": null,
      "outputs": [
        {
          "output_type": "stream",
          "name": "stdout",
          "text": [
            "[]\n",
            "[]\n"
          ]
        }
      ]
    },
    {
      "cell_type": "markdown",
      "source": [
        "### เพิ่มสมาชิกเข้าไปใน list ด้วย append()"
      ],
      "metadata": {
        "id": "GMiPQZ4GdkHe"
      }
    },
    {
      "cell_type": "code",
      "source": [
        "list_x1.append(2)"
      ],
      "metadata": {
        "id": "FAhyKFXpdtpp"
      },
      "execution_count": null,
      "outputs": []
    },
    {
      "cell_type": "code",
      "source": [
        "list_x1"
      ],
      "metadata": {
        "colab": {
          "base_uri": "https://localhost:8080/"
        },
        "id": "esw-m36bd0Aq",
        "outputId": "1201e7b7-8fdd-4237-f032-f804892d8498"
      },
      "execution_count": null,
      "outputs": [
        {
          "output_type": "execute_result",
          "data": {
            "text/plain": [
              "[2]"
            ]
          },
          "metadata": {},
          "execution_count": 39
        }
      ]
    },
    {
      "cell_type": "code",
      "source": [
        "list_x1.append(4)\n",
        "print(list_x1)"
      ],
      "metadata": {
        "colab": {
          "base_uri": "https://localhost:8080/"
        },
        "id": "b_HKmeH9d3g3",
        "outputId": "9ec8fcdc-4754-40b6-93ec-6f518b655393"
      },
      "execution_count": null,
      "outputs": [
        {
          "output_type": "stream",
          "name": "stdout",
          "text": [
            "[2, 4]\n"
          ]
        }
      ]
    },
    {
      "cell_type": "code",
      "source": [
        "list_x1[0]"
      ],
      "metadata": {
        "colab": {
          "base_uri": "https://localhost:8080/"
        },
        "id": "A8_zp7HaeDHH",
        "outputId": "a22b77f3-5c60-4215-d0d1-c9e11fcb18f2"
      },
      "execution_count": null,
      "outputs": [
        {
          "output_type": "execute_result",
          "data": {
            "text/plain": [
              "2"
            ]
          },
          "metadata": {},
          "execution_count": 41
        }
      ]
    },
    {
      "cell_type": "code",
      "source": [
        "list_x1[-1]"
      ],
      "metadata": {
        "colab": {
          "base_uri": "https://localhost:8080/"
        },
        "id": "U2sp_JCheILr",
        "outputId": "f5f530d8-33bc-48c8-eb75-09c6f5c66c0f"
      },
      "execution_count": null,
      "outputs": [
        {
          "output_type": "execute_result",
          "data": {
            "text/plain": [
              "4"
            ]
          },
          "metadata": {},
          "execution_count": 42
        }
      ]
    },
    {
      "cell_type": "code",
      "source": [
        "list_x2"
      ],
      "metadata": {
        "colab": {
          "base_uri": "https://localhost:8080/"
        },
        "id": "iZK41K4YeYtV",
        "outputId": "135b00ef-c781-4371-ebef-82b1571a4dcb"
      },
      "execution_count": null,
      "outputs": [
        {
          "output_type": "execute_result",
          "data": {
            "text/plain": [
              "[]"
            ]
          },
          "metadata": {},
          "execution_count": 43
        }
      ]
    },
    {
      "cell_type": "code",
      "source": [
        "list_x2.append('ha')"
      ],
      "metadata": {
        "id": "gPAgJqhTebNH"
      },
      "execution_count": null,
      "outputs": []
    },
    {
      "cell_type": "code",
      "source": [
        "list_x2"
      ],
      "metadata": {
        "colab": {
          "base_uri": "https://localhost:8080/"
        },
        "id": "l7vQzpegfelt",
        "outputId": "5a9525ae-f567-4be6-e672-02dd882580a1"
      },
      "execution_count": null,
      "outputs": [
        {
          "output_type": "execute_result",
          "data": {
            "text/plain": [
              "['ha', 'ha']"
            ]
          },
          "metadata": {},
          "execution_count": 54
        }
      ]
    },
    {
      "cell_type": "markdown",
      "source": [
        "### ลบสมาชิกจาก list"
      ],
      "metadata": {
        "id": "HpyizN31fygJ"
      }
    },
    {
      "cell_type": "code",
      "source": [
        "list_x1.append('ha')"
      ],
      "metadata": {
        "id": "E9wjMy0xf18p"
      },
      "execution_count": null,
      "outputs": []
    },
    {
      "cell_type": "code",
      "source": [
        "list_x1"
      ],
      "metadata": {
        "colab": {
          "base_uri": "https://localhost:8080/"
        },
        "id": "FstXLyjDf8D8",
        "outputId": "b02be4ad-2808-4c57-ffe7-12e25749974b"
      },
      "execution_count": null,
      "outputs": [
        {
          "output_type": "execute_result",
          "data": {
            "text/plain": [
              "[2, 4, 'ha']"
            ]
          },
          "metadata": {},
          "execution_count": 63
        }
      ]
    },
    {
      "cell_type": "code",
      "source": [
        "list_x1.pop()"
      ],
      "metadata": {
        "colab": {
          "base_uri": "https://localhost:8080/",
          "height": 35
        },
        "id": "WT0AFhCmgAAT",
        "outputId": "009a4be6-b5e1-4c37-e093-b609f8d5bf4a"
      },
      "execution_count": null,
      "outputs": [
        {
          "output_type": "execute_result",
          "data": {
            "application/vnd.google.colaboratory.intrinsic+json": {
              "type": "string"
            },
            "text/plain": [
              "'ha'"
            ]
          },
          "metadata": {},
          "execution_count": 57
        }
      ]
    },
    {
      "cell_type": "code",
      "source": [
        "list_x1"
      ],
      "metadata": {
        "colab": {
          "base_uri": "https://localhost:8080/"
        },
        "id": "HBOzWKdogMD3",
        "outputId": "44b84254-17df-48ea-d69d-9def92e021cf"
      },
      "execution_count": null,
      "outputs": [
        {
          "output_type": "execute_result",
          "data": {
            "text/plain": [
              "[2, 4, 'ha']"
            ]
          },
          "metadata": {},
          "execution_count": 64
        }
      ]
    },
    {
      "cell_type": "code",
      "source": [
        "list_x1.pop()\n",
        "print(list_x1)"
      ],
      "metadata": {
        "colab": {
          "base_uri": "https://localhost:8080/"
        },
        "id": "-rYj22XmgVck",
        "outputId": "f664c048-7c15-4bea-b247-28b741509680"
      },
      "execution_count": null,
      "outputs": [
        {
          "output_type": "stream",
          "name": "stdout",
          "text": [
            "[2, 4]\n"
          ]
        }
      ]
    },
    {
      "cell_type": "markdown",
      "source": [
        "### len() ตรวจสอบจำนวนสมาชิกของ list"
      ],
      "metadata": {
        "id": "bsRAWCvqgqVQ"
      }
    },
    {
      "cell_type": "code",
      "source": [
        "print(list_b)\n",
        "print(len(list_b))"
      ],
      "metadata": {
        "colab": {
          "base_uri": "https://localhost:8080/"
        },
        "id": "oJAcvaoLgwu_",
        "outputId": "86a11aca-dd4c-4b77-c535-78479ac9f0cd"
      },
      "execution_count": null,
      "outputs": [
        {
          "output_type": "stream",
          "name": "stdout",
          "text": [
            "['ab', 2, 3.14, [1, 2, 3, 4, 5, 6]]\n",
            "4\n"
          ]
        }
      ]
    },
    {
      "cell_type": "code",
      "source": [
        "len(list_a)"
      ],
      "metadata": {
        "colab": {
          "base_uri": "https://localhost:8080/"
        },
        "id": "cVuVdExZg9SG",
        "outputId": "4093b8df-b0e5-438e-d79a-73160aa35d7b"
      },
      "execution_count": null,
      "outputs": [
        {
          "output_type": "execute_result",
          "data": {
            "text/plain": [
              "6"
            ]
          },
          "metadata": {},
          "execution_count": 68
        }
      ]
    },
    {
      "cell_type": "markdown",
      "source": [
        "### String is a list of characters"
      ],
      "metadata": {
        "id": "j0ugGbIhhH4t"
      }
    },
    {
      "cell_type": "code",
      "source": [
        "st_stat = 'Department of Statistics, Facutly of Science'"
      ],
      "metadata": {
        "id": "WDg37A1HhNFr"
      },
      "execution_count": null,
      "outputs": []
    },
    {
      "cell_type": "code",
      "source": [
        "st_stat[10] # ตัวที่ 10"
      ],
      "metadata": {
        "colab": {
          "base_uri": "https://localhost:8080/",
          "height": 35
        },
        "id": "EHZb7axxhd4M",
        "outputId": "3854b45c-b6ea-4c12-a3f3-5740c33b7e69"
      },
      "execution_count": null,
      "outputs": [
        {
          "output_type": "execute_result",
          "data": {
            "application/vnd.google.colaboratory.intrinsic+json": {
              "type": "string"
            },
            "text/plain": [
              "' '"
            ]
          },
          "metadata": {},
          "execution_count": 70
        }
      ]
    },
    {
      "cell_type": "code",
      "source": [
        "len(st_stat)"
      ],
      "metadata": {
        "colab": {
          "base_uri": "https://localhost:8080/"
        },
        "id": "0qpufuLphos6",
        "outputId": "b34dd2eb-869f-4eb9-fc1a-eda0073df41d"
      },
      "execution_count": null,
      "outputs": [
        {
          "output_type": "execute_result",
          "data": {
            "text/plain": [
              "44"
            ]
          },
          "metadata": {},
          "execution_count": 71
        }
      ]
    },
    {
      "cell_type": "markdown",
      "source": [
        "### list Slicing การเฉือนสมาชิก"
      ],
      "metadata": {
        "id": "AAMacsuFhuY1"
      }
    },
    {
      "cell_type": "markdown",
      "source": [
        "list[จุดเริ่มต้น:จุดสุดท้าย]\n",
        "list[จุดเริ่มต้น:จุดสุดท้าย:Step]"
      ],
      "metadata": {
        "id": "NtlzEiksioBc"
      }
    },
    {
      "cell_type": "code",
      "source": [
        "list_a"
      ],
      "metadata": {
        "colab": {
          "base_uri": "https://localhost:8080/"
        },
        "id": "i8zsz6-Rh7cF",
        "outputId": "c9aa6367-538e-4b06-d4ea-daf5b6f24212"
      },
      "execution_count": null,
      "outputs": [
        {
          "output_type": "execute_result",
          "data": {
            "text/plain": [
              "[1, 2, 3, 4, 5, 6]"
            ]
          },
          "metadata": {},
          "execution_count": 72
        }
      ]
    },
    {
      "cell_type": "code",
      "source": [
        "list_a[2]"
      ],
      "metadata": {
        "colab": {
          "base_uri": "https://localhost:8080/"
        },
        "id": "qn_cjHOEiDvD",
        "outputId": "f0d64045-4d4b-494f-fd7a-8a6cf423be6d"
      },
      "execution_count": null,
      "outputs": [
        {
          "output_type": "execute_result",
          "data": {
            "text/plain": [
              "3"
            ]
          },
          "metadata": {},
          "execution_count": 73
        }
      ]
    },
    {
      "cell_type": "markdown",
      "source": [
        "#### : colon"
      ],
      "metadata": {
        "id": "NwzpXPybjrRU"
      }
    },
    {
      "cell_type": "code",
      "source": [
        "list_a[-3:] # : colon บ่งบอกเราจะ Slicing อะไร 3 ตัวสุดท้าย"
      ],
      "metadata": {
        "colab": {
          "base_uri": "https://localhost:8080/"
        },
        "id": "AJ7NuVLXiWgF",
        "outputId": "30897f37-6d6e-467e-d6e0-70accbd912f6"
      },
      "execution_count": null,
      "outputs": [
        {
          "output_type": "execute_result",
          "data": {
            "text/plain": [
              "[4, 5, 6]"
            ]
          },
          "metadata": {},
          "execution_count": 75
        }
      ]
    },
    {
      "cell_type": "code",
      "source": [
        "list_a[:4] # : colon"
      ],
      "metadata": {
        "colab": {
          "base_uri": "https://localhost:8080/"
        },
        "id": "E5A32yvDjPcM",
        "outputId": "064dae30-fc32-4aaf-8606-9b86190b5b7e"
      },
      "execution_count": null,
      "outputs": [
        {
          "output_type": "execute_result",
          "data": {
            "text/plain": [
              "[1, 2, 3, 4]"
            ]
          },
          "metadata": {},
          "execution_count": 77
        }
      ]
    },
    {
      "cell_type": "code",
      "source": [
        "list_a[1:4] "
      ],
      "metadata": {
        "colab": {
          "base_uri": "https://localhost:8080/"
        },
        "id": "j960iUpnjFjW",
        "outputId": "0b6151e3-68ec-4ed2-fed9-1f821f94e693"
      },
      "execution_count": null,
      "outputs": [
        {
          "output_type": "execute_result",
          "data": {
            "text/plain": [
              "[2, 3, 4]"
            ]
          },
          "metadata": {},
          "execution_count": 76
        }
      ]
    },
    {
      "cell_type": "code",
      "source": [
        "list_a[:] # เอาตัวที่ 1 ถีงตัวสุดท้าย"
      ],
      "metadata": {
        "colab": {
          "base_uri": "https://localhost:8080/"
        },
        "id": "8INuDQtvjXlU",
        "outputId": "030d5326-80fa-4584-ee43-94821954a5cc"
      },
      "execution_count": null,
      "outputs": [
        {
          "output_type": "execute_result",
          "data": {
            "text/plain": [
              "[1, 2, 3, 4, 5, 6]"
            ]
          },
          "metadata": {},
          "execution_count": 78
        }
      ]
    },
    {
      "cell_type": "markdown",
      "source": [
        "#### step"
      ],
      "metadata": {
        "id": "sZ02rYXSjkD4"
      }
    },
    {
      "cell_type": "code",
      "source": [
        "list_c = [1,2,3,4,5,6,7,8,9,10,11,12,13]"
      ],
      "metadata": {
        "id": "s7ZZNeEsjzpY"
      },
      "execution_count": null,
      "outputs": []
    },
    {
      "cell_type": "code",
      "source": [
        "list_c[:10:] # ไม่กำหนด step"
      ],
      "metadata": {
        "colab": {
          "base_uri": "https://localhost:8080/"
        },
        "id": "M6uacBguj64M",
        "outputId": "627816ba-92b1-4a17-86ed-cd1a35250ebf"
      },
      "execution_count": null,
      "outputs": [
        {
          "output_type": "execute_result",
          "data": {
            "text/plain": [
              "[1, 2, 3, 4, 5, 6, 7, 8, 9, 10]"
            ]
          },
          "metadata": {},
          "execution_count": 81
        }
      ]
    },
    {
      "cell_type": "code",
      "source": [
        "list_c[:10:2] # กระโดดข้าม 2 ขั้น"
      ],
      "metadata": {
        "colab": {
          "base_uri": "https://localhost:8080/"
        },
        "id": "fIv_Q856kI1k",
        "outputId": "da87cba5-2faa-44c4-c23a-86bdc1cde598"
      },
      "execution_count": null,
      "outputs": [
        {
          "output_type": "execute_result",
          "data": {
            "text/plain": [
              "[1, 3, 5, 7, 9]"
            ]
          },
          "metadata": {},
          "execution_count": 84
        }
      ]
    },
    {
      "cell_type": "code",
      "source": [
        "list_c[::-1] # เอาทุกตัว วิ่งจากข้างหลังมาข้างหน้า"
      ],
      "metadata": {
        "colab": {
          "base_uri": "https://localhost:8080/"
        },
        "id": "E_sTb9cWkWBo",
        "outputId": "9d5d04c0-a27d-4bc0-af3a-e5908db5227c"
      },
      "execution_count": null,
      "outputs": [
        {
          "output_type": "execute_result",
          "data": {
            "text/plain": [
              "[13, 12, 11, 10, 9, 8, 7, 6, 5, 4, 3, 2, 1]"
            ]
          },
          "metadata": {},
          "execution_count": 85
        }
      ]
    },
    {
      "cell_type": "markdown",
      "source": [
        "### range() "
      ],
      "metadata": {
        "id": "yps_bC3SkssH"
      }
    },
    {
      "cell_type": "code",
      "source": [
        "a = list(range(21))"
      ],
      "metadata": {
        "id": "ofpdTYbPk8Lx"
      },
      "execution_count": null,
      "outputs": []
    },
    {
      "cell_type": "code",
      "source": [
        "a"
      ],
      "metadata": {
        "colab": {
          "base_uri": "https://localhost:8080/"
        },
        "id": "aM1wab4RlFhG",
        "outputId": "a0bbda4c-7d90-4809-fd67-29c6dd26d9f7"
      },
      "execution_count": null,
      "outputs": [
        {
          "output_type": "execute_result",
          "data": {
            "text/plain": [
              "[0, 1, 2, 3, 4, 5, 6, 7, 8, 9, 10, 11, 12, 13, 14, 15, 16, 17, 18, 19, 20]"
            ]
          },
          "metadata": {},
          "execution_count": 87
        }
      ]
    },
    {
      "cell_type": "code",
      "source": [
        "range(21) # อยากได้ 21 ตัว จุดเริ่มต้นคือ 1 ถึง 21"
      ],
      "metadata": {
        "colab": {
          "base_uri": "https://localhost:8080/"
        },
        "id": "ecYVA1MVlHyt",
        "outputId": "7d2c0287-d602-4050-e6e4-08a5437b7b86"
      },
      "execution_count": null,
      "outputs": [
        {
          "output_type": "execute_result",
          "data": {
            "text/plain": [
              "range(0, 21)"
            ]
          },
          "metadata": {},
          "execution_count": 88
        }
      ]
    },
    {
      "cell_type": "code",
      "source": [
        "list(range(1,21))"
      ],
      "metadata": {
        "colab": {
          "base_uri": "https://localhost:8080/"
        },
        "id": "YRlMnuWClRwD",
        "outputId": "e45538c2-48e0-4c94-cb52-de21c3bc0cc6"
      },
      "execution_count": null,
      "outputs": [
        {
          "output_type": "execute_result",
          "data": {
            "text/plain": [
              "[1, 2, 3, 4, 5, 6, 7, 8, 9, 10, 11, 12, 13, 14, 15, 16, 17, 18, 19, 20]"
            ]
          },
          "metadata": {},
          "execution_count": 90
        }
      ]
    },
    {
      "cell_type": "markdown",
      "source": [
        "HW2 คำนวณเวลาเป็นวินาทีของเวลาต่อไปนี้โดยใช้คำสั่ง split() ช่วย (printออกมาให้สวยงาม)\n",
        "- 12:30:15\n",
        "- 13:41:07\n",
        "- 09:11:50\n",
        "- 21:30:15\n",
        "- 03:10:15"
      ],
      "metadata": {
        "id": "ROVfd68HlmBg"
      }
    },
    {
      "cell_type": "code",
      "source": [
        "#01:00:00\n",
        "\n",
        "a = (1*60*60) + (2*60) + 3\n",
        "print(f'01:02:03 แปลงเป็นวินาทีได้ {a} วินาที')"
      ],
      "metadata": {
        "colab": {
          "base_uri": "https://localhost:8080/"
        },
        "id": "GhGSPRSKmSMI",
        "outputId": "db46c244-80e5-40ce-8cd7-5ce53c4ea11e"
      },
      "execution_count": null,
      "outputs": [
        {
          "output_type": "stream",
          "name": "stdout",
          "text": [
            "01:02:03 แปลงเป็นวินาทีได้ 3723 วินาที\n"
          ]
        }
      ]
    },
    {
      "cell_type": "code",
      "source": [
        "q1 = '12:30:15'\n",
        "q1_sp = q1.split(':')\n",
        "answer1 = int(q1_sp[0])*3600 + int(q1_sp[1])*60 + int(q1_sp[2])\n",
        "print(f'เวลา {q1} คำนวณเป็นวินาทีได้เท่ากับ {answer1}')"
      ],
      "metadata": {
        "colab": {
          "base_uri": "https://localhost:8080/"
        },
        "id": "4g1e5Sswmgr9",
        "outputId": "97f2b7bc-2d06-4f48-dc05-4d5ee73a4669"
      },
      "execution_count": null,
      "outputs": [
        {
          "output_type": "stream",
          "name": "stdout",
          "text": [
            "เวลา 12:30:15 คำนวณเป็นวินาทีได้เท่ากับ 45015\n"
          ]
        }
      ]
    },
    {
      "cell_type": "code",
      "source": [
        "q1 = '13:41:07'\n",
        "q1_sp = q1.split(':')\n",
        "answer1 = int(q1_sp[0])*3600 + int(q1_sp[1])*60 + int(q1_sp[2])\n",
        "print(f'เวลา {q1} คำนวณเป็นวินาทีได้เท่ากับ {answer1}')"
      ],
      "metadata": {
        "colab": {
          "base_uri": "https://localhost:8080/"
        },
        "id": "VmX9WAKZoA_V",
        "outputId": "0363788a-48ba-42b9-fbbf-491727a6a3f5"
      },
      "execution_count": null,
      "outputs": [
        {
          "output_type": "stream",
          "name": "stdout",
          "text": [
            "เวลา 13:41:07 คำนวณเป็นวินาทีได้เท่ากับ 49267\n"
          ]
        }
      ]
    },
    {
      "cell_type": "code",
      "source": [
        "q1 = '09:11:50'\n",
        "q1_sp = q1.split(':')\n",
        "answer1 = int(q1_sp[0])*3600 + int(q1_sp[1])*60 + int(q1_sp[2])\n",
        "print(f'เวลา {q1} คำนวณเป็นวินาทีได้เท่ากับ {answer1}')"
      ],
      "metadata": {
        "colab": {
          "base_uri": "https://localhost:8080/"
        },
        "id": "uxUu5PFaoH0l",
        "outputId": "aa01dea1-0d8c-44d0-b04a-d5b6a1fc6ce3"
      },
      "execution_count": null,
      "outputs": [
        {
          "output_type": "stream",
          "name": "stdout",
          "text": [
            "เวลา 09:11:50 คำนวณเป็นวินาทีได้เท่ากับ 33110\n"
          ]
        }
      ]
    },
    {
      "cell_type": "code",
      "source": [
        "q1 = '21:30:15'\n",
        "q1_sp = q1.split(':')\n",
        "answer1 = int(q1_sp[0])*3600 + int(q1_sp[1])*60 + int(q1_sp[2])\n",
        "print(f'เวลา {q1} คำนวณเป็นวินาทีได้เท่ากับ {answer1}')"
      ],
      "metadata": {
        "colab": {
          "base_uri": "https://localhost:8080/"
        },
        "id": "h0DRCfcZoONX",
        "outputId": "8b6856b3-a038-4524-c365-6a959aca3b43"
      },
      "execution_count": null,
      "outputs": [
        {
          "output_type": "stream",
          "name": "stdout",
          "text": [
            "เวลา 21:30:15 คำนวณเป็นวินาทีได้เท่ากับ 77415\n"
          ]
        }
      ]
    },
    {
      "cell_type": "code",
      "source": [
        "q1 = '03:10:15'\n",
        "q1_sp = q1.split(':')\n",
        "answer1 = int(q1_sp[0])*3600 + int(q1_sp[1])*60 + int(q1_sp[2])\n",
        "print(f'เวลา {q1} คำนวณเป็นวินาทีได้เท่ากับ {answer1}')"
      ],
      "metadata": {
        "colab": {
          "base_uri": "https://localhost:8080/"
        },
        "id": "j6vIUDUxoS86",
        "outputId": "4ac520be-6c93-42ba-f4f7-8e77d4d8d474"
      },
      "execution_count": null,
      "outputs": [
        {
          "output_type": "stream",
          "name": "stdout",
          "text": [
            "เวลา 03:10:15 คำนวณเป็นวินาทีได้เท่ากับ 11415\n"
          ]
        }
      ]
    },
    {
      "cell_type": "markdown",
      "source": [
        "### Dictionary\n"
      ],
      "metadata": {
        "id": "4m2l7_cTD0Qy"
      }
    },
    {
      "cell_type": "markdown",
      "source": [
        "#### สร้าง Dictionary"
      ],
      "metadata": {
        "id": "APvp4t0vEAIz"
      }
    },
    {
      "cell_type": "code",
      "source": [
        "dict_a = {1:'Happy','N':'New','2022':'Year'} # { } curly backets"
      ],
      "metadata": {
        "id": "xDV8PybLEK0H"
      },
      "execution_count": 1,
      "outputs": []
    },
    {
      "cell_type": "markdown",
      "source": [
        "#### การชี้ สมาชิกใน Dictionary"
      ],
      "metadata": {
        "id": "gE7ZHPNWEbSr"
      }
    },
    {
      "cell_type": "code",
      "source": [
        "dict_a[1]"
      ],
      "metadata": {
        "id": "xrOg_y5GEhxo",
        "outputId": "768b7026-988f-43b0-fc89-a81f795c397e",
        "colab": {
          "base_uri": "https://localhost:8080/",
          "height": 35
        }
      },
      "execution_count": 2,
      "outputs": [
        {
          "output_type": "execute_result",
          "data": {
            "application/vnd.google.colaboratory.intrinsic+json": {
              "type": "string"
            },
            "text/plain": [
              "'Happy'"
            ]
          },
          "metadata": {},
          "execution_count": 2
        }
      ]
    },
    {
      "cell_type": "code",
      "source": [
        "dict_a['N']"
      ],
      "metadata": {
        "id": "1bFm3nZ_EkfK",
        "outputId": "ceee613d-9556-44a0-bc01-76064ddffea7",
        "colab": {
          "base_uri": "https://localhost:8080/",
          "height": 35
        }
      },
      "execution_count": 3,
      "outputs": [
        {
          "output_type": "execute_result",
          "data": {
            "application/vnd.google.colaboratory.intrinsic+json": {
              "type": "string"
            },
            "text/plain": [
              "'New'"
            ]
          },
          "metadata": {},
          "execution_count": 3
        }
      ]
    },
    {
      "cell_type": "code",
      "source": [
        "dict_a.keys()"
      ],
      "metadata": {
        "id": "9AGAFo6nE0Or",
        "outputId": "67887798-38c0-489b-c266-e7b0ac626ecd",
        "colab": {
          "base_uri": "https://localhost:8080/"
        }
      },
      "execution_count": 4,
      "outputs": [
        {
          "output_type": "execute_result",
          "data": {
            "text/plain": [
              "dict_keys([1, 'N', '2022'])"
            ]
          },
          "metadata": {},
          "execution_count": 4
        }
      ]
    },
    {
      "cell_type": "code",
      "source": [
        "dict_a.values()"
      ],
      "metadata": {
        "id": "ekbLoioEE2iV",
        "outputId": "554bab25-6b10-4d71-ed79-16a2a40dbd20",
        "colab": {
          "base_uri": "https://localhost:8080/"
        }
      },
      "execution_count": 5,
      "outputs": [
        {
          "output_type": "execute_result",
          "data": {
            "text/plain": [
              "dict_values(['Happy', 'New', 'Year'])"
            ]
          },
          "metadata": {},
          "execution_count": 5
        }
      ]
    },
    {
      "cell_type": "markdown",
      "source": [
        "#### การเพิ่มสมาชิกลงไปใน Dictionary"
      ],
      "metadata": {
        "id": "6EtcyMaDE7fx"
      }
    },
    {
      "cell_type": "code",
      "source": [
        "dict_a[7] = 3.14"
      ],
      "metadata": {
        "id": "WZnBKlqxFBWI"
      },
      "execution_count": 6,
      "outputs": []
    },
    {
      "cell_type": "code",
      "source": [
        "dict_a"
      ],
      "metadata": {
        "id": "XRvfW_FKFEOs",
        "outputId": "02747a10-b8e7-40e6-ab2b-521c5f19d45c",
        "colab": {
          "base_uri": "https://localhost:8080/"
        }
      },
      "execution_count": 7,
      "outputs": [
        {
          "output_type": "execute_result",
          "data": {
            "text/plain": [
              "{1: 'Happy', '2022': 'Year', 7: 3.14, 'N': 'New'}"
            ]
          },
          "metadata": {},
          "execution_count": 7
        }
      ]
    },
    {
      "cell_type": "code",
      "source": [
        "dict_a['N'] = 'NNNNEEEEWWWW'"
      ],
      "metadata": {
        "id": "Vr00Z7GlFF0L"
      },
      "execution_count": 8,
      "outputs": []
    },
    {
      "cell_type": "code",
      "source": [
        "dict_a"
      ],
      "metadata": {
        "id": "jOKHrRjXFHio",
        "outputId": "ad08e55b-a8c6-4245-9e35-677b3ad672fd",
        "colab": {
          "base_uri": "https://localhost:8080/"
        }
      },
      "execution_count": 9,
      "outputs": [
        {
          "output_type": "execute_result",
          "data": {
            "text/plain": [
              "{1: 'Happy', '2022': 'Year', 7: 3.14, 'N': 'NNNNEEEEWWWW'}"
            ]
          },
          "metadata": {},
          "execution_count": 9
        }
      ]
    },
    {
      "cell_type": "markdown",
      "source": [
        "### Numpy Array"
      ],
      "metadata": {
        "id": "eowpoipkFNfo"
      }
    },
    {
      "cell_type": "code",
      "source": [
        "import numpy"
      ],
      "metadata": {
        "id": "wS4fSgnFFUOT"
      },
      "execution_count": 17,
      "outputs": []
    },
    {
      "cell_type": "markdown",
      "source": [
        "#### 1D array"
      ],
      "metadata": {
        "id": "mv2StoH2FW0F"
      }
    },
    {
      "cell_type": "code",
      "source": [
        "list_A = [1,2,3,4,5]"
      ],
      "metadata": {
        "id": "oAzQuMTKFaY4"
      },
      "execution_count": 18,
      "outputs": []
    },
    {
      "cell_type": "code",
      "source": [
        "arr_a = numpy.array(list_A)"
      ],
      "metadata": {
        "id": "uMkJxFs3FdTa"
      },
      "execution_count": 19,
      "outputs": []
    },
    {
      "cell_type": "code",
      "source": [
        "arr_a"
      ],
      "metadata": {
        "id": "IPO99vK4FfWB",
        "outputId": "9bdd64d8-b341-46c9-e0ad-52affa15da83",
        "colab": {
          "base_uri": "https://localhost:8080/"
        }
      },
      "execution_count": 20,
      "outputs": [
        {
          "output_type": "execute_result",
          "data": {
            "text/plain": [
              "array([1, 2, 3, 4, 5])"
            ]
          },
          "metadata": {},
          "execution_count": 20
        }
      ]
    },
    {
      "cell_type": "code",
      "source": [
        "list_A"
      ],
      "metadata": {
        "id": "GJQxfLcdFhAW",
        "outputId": "206b435e-387c-4465-b63c-36e2f6b770e4",
        "colab": {
          "base_uri": "https://localhost:8080/"
        }
      },
      "execution_count": 21,
      "outputs": [
        {
          "output_type": "execute_result",
          "data": {
            "text/plain": [
              "[1, 2, 3, 4, 5]"
            ]
          },
          "metadata": {},
          "execution_count": 21
        }
      ]
    },
    {
      "cell_type": "code",
      "source": [
        "arr_a[0]"
      ],
      "metadata": {
        "id": "GUWMRdx1Fisy",
        "outputId": "925fafed-2538-47d5-80be-60e8e97755ff",
        "colab": {
          "base_uri": "https://localhost:8080/"
        }
      },
      "execution_count": 22,
      "outputs": [
        {
          "output_type": "execute_result",
          "data": {
            "text/plain": [
              "1"
            ]
          },
          "metadata": {},
          "execution_count": 22
        }
      ]
    },
    {
      "cell_type": "code",
      "source": [
        "list_A[0]"
      ],
      "metadata": {
        "id": "xGImkKm2FkkH",
        "outputId": "5dacc6e2-64cf-4952-de36-d2557a313245",
        "colab": {
          "base_uri": "https://localhost:8080/"
        }
      },
      "execution_count": 23,
      "outputs": [
        {
          "output_type": "execute_result",
          "data": {
            "text/plain": [
              "1"
            ]
          },
          "metadata": {},
          "execution_count": 23
        }
      ]
    },
    {
      "cell_type": "code",
      "source": [
        "5*arr_a #Matrix (scalar multiplication)"
      ],
      "metadata": {
        "id": "w4uM6gZUFmrn",
        "outputId": "d58dec37-f272-494d-e921-aa49098f9c19",
        "colab": {
          "base_uri": "https://localhost:8080/"
        }
      },
      "execution_count": 24,
      "outputs": [
        {
          "output_type": "execute_result",
          "data": {
            "text/plain": [
              "array([ 5, 10, 15, 20, 25])"
            ]
          },
          "metadata": {},
          "execution_count": 24
        }
      ]
    },
    {
      "cell_type": "code",
      "source": [
        "5*list_A"
      ],
      "metadata": {
        "id": "BBZnfJn6FoGN",
        "outputId": "65312cfb-5264-4be7-a0a8-6258fef502da",
        "colab": {
          "base_uri": "https://localhost:8080/"
        }
      },
      "execution_count": 25,
      "outputs": [
        {
          "output_type": "execute_result",
          "data": {
            "text/plain": [
              "[1, 2, 3, 4, 5, 1, 2, 3, 4, 5, 1, 2, 3, 4, 5, 1, 2, 3, 4, 5, 1, 2, 3, 4, 5]"
            ]
          },
          "metadata": {},
          "execution_count": 25
        }
      ]
    },
    {
      "cell_type": "code",
      "source": [
        "arr_b = numpy.array([10,20,30,40,50])"
      ],
      "metadata": {
        "id": "UH6EllhzFpXB"
      },
      "execution_count": 26,
      "outputs": []
    },
    {
      "cell_type": "code",
      "source": [
        "print(arr_a)"
      ],
      "metadata": {
        "id": "QWeibbdUFqmH",
        "outputId": "5aa0472b-4660-4445-c5ee-93fc18022614",
        "colab": {
          "base_uri": "https://localhost:8080/"
        }
      },
      "execution_count": 27,
      "outputs": [
        {
          "output_type": "stream",
          "name": "stdout",
          "text": [
            "[1 2 3 4 5]\n"
          ]
        }
      ]
    },
    {
      "cell_type": "code",
      "source": [
        "arr_a+arr_b"
      ],
      "metadata": {
        "id": "NtBdrLYcFr9O",
        "outputId": "de6bd4ff-31d6-4ffb-c638-afe43f9beff3",
        "colab": {
          "base_uri": "https://localhost:8080/"
        }
      },
      "execution_count": 28,
      "outputs": [
        {
          "output_type": "execute_result",
          "data": {
            "text/plain": [
              "array([11, 22, 33, 44, 55])"
            ]
          },
          "metadata": {},
          "execution_count": 28
        }
      ]
    },
    {
      "cell_type": "markdown",
      "source": [
        "####2D array"
      ],
      "metadata": {
        "id": "-ofdcEHEHiv7"
      }
    },
    {
      "cell_type": "code",
      "source": [
        "import numpy as np"
      ],
      "metadata": {
        "id": "edClO_VdHprf"
      },
      "execution_count": 29,
      "outputs": []
    },
    {
      "cell_type": "code",
      "source": [
        "arr2_z = np.array([[1,2,3], [4,5,6]])"
      ],
      "metadata": {
        "id": "HZJC3_GfHrvQ"
      },
      "execution_count": 30,
      "outputs": []
    },
    {
      "cell_type": "code",
      "source": [
        "arr2_z"
      ],
      "metadata": {
        "id": "CNJOwydZHtHX",
        "outputId": "e606c3d8-f938-46f9-f48e-c224a3c2a84f",
        "colab": {
          "base_uri": "https://localhost:8080/"
        }
      },
      "execution_count": 31,
      "outputs": [
        {
          "output_type": "execute_result",
          "data": {
            "text/plain": [
              "array([[1, 2, 3],\n",
              "       [4, 5, 6]])"
            ]
          },
          "metadata": {},
          "execution_count": 31
        }
      ]
    },
    {
      "cell_type": "code",
      "source": [
        "arr2_z.shape"
      ],
      "metadata": {
        "id": "ZK5k1PoZHuVG",
        "outputId": "0d00d5c4-d025-4c39-f81e-b2aad68bbb40",
        "colab": {
          "base_uri": "https://localhost:8080/"
        }
      },
      "execution_count": 32,
      "outputs": [
        {
          "output_type": "execute_result",
          "data": {
            "text/plain": [
              "(2, 3)"
            ]
          },
          "metadata": {},
          "execution_count": 32
        }
      ]
    },
    {
      "cell_type": "markdown",
      "source": [
        "#### np.zeros()"
      ],
      "metadata": {
        "id": "zqnBi5FcHzXP"
      }
    },
    {
      "cell_type": "code",
      "source": [
        "arr2_3_5_0 = np.zeros((3,5))"
      ],
      "metadata": {
        "id": "vwajwTueH4qo"
      },
      "execution_count": 33,
      "outputs": []
    },
    {
      "cell_type": "code",
      "source": [
        "arr2_3_5_0"
      ],
      "metadata": {
        "id": "TYSaG0puH69_",
        "outputId": "270f8a24-02aa-4ad0-b310-2251515c5278",
        "colab": {
          "base_uri": "https://localhost:8080/"
        }
      },
      "execution_count": 34,
      "outputs": [
        {
          "output_type": "execute_result",
          "data": {
            "text/plain": [
              "array([[0., 0., 0., 0., 0.],\n",
              "       [0., 0., 0., 0., 0.],\n",
              "       [0., 0., 0., 0., 0.]])"
            ]
          },
          "metadata": {},
          "execution_count": 34
        }
      ]
    },
    {
      "cell_type": "code",
      "source": [
        "arr2_3_5_0[1,2] =  #กำหนดค่า"
      ],
      "metadata": {
        "id": "Abu28qaQH8Sh",
        "outputId": "2c7140e5-ff34-47d8-c47e-d0fdf6aff014",
        "colab": {
          "base_uri": "https://localhost:8080/",
          "height": 130
        }
      },
      "execution_count": 35,
      "outputs": [
        {
          "output_type": "error",
          "ename": "SyntaxError",
          "evalue": "ignored",
          "traceback": [
            "\u001b[0;36m  File \u001b[0;32m\"<ipython-input-35-223f8474923a>\"\u001b[0;36m, line \u001b[0;32m1\u001b[0m\n\u001b[0;31m    arr2_3_5_0[1,2] =  #กำหนดค่า\u001b[0m\n\u001b[0m                                ^\u001b[0m\n\u001b[0;31mSyntaxError\u001b[0m\u001b[0;31m:\u001b[0m invalid syntax\n"
          ]
        }
      ]
    },
    {
      "cell_type": "code",
      "source": [
        "arr2_3_5_0"
      ],
      "metadata": {
        "id": "_xHnkJliH9c_",
        "outputId": "8aa7795b-b021-4eb3-ed6c-8fb17aabc272",
        "colab": {
          "base_uri": "https://localhost:8080/"
        }
      },
      "execution_count": 36,
      "outputs": [
        {
          "output_type": "execute_result",
          "data": {
            "text/plain": [
              "array([[0., 0., 0., 0., 0.],\n",
              "       [0., 0., 0., 0., 0.],\n",
              "       [0., 0., 0., 0., 0.]])"
            ]
          },
          "metadata": {},
          "execution_count": 36
        }
      ]
    },
    {
      "cell_type": "code",
      "source": [
        "arr2_3_5_0[1,2] #ชี้"
      ],
      "metadata": {
        "id": "M1FjEVfkH-zL",
        "outputId": "0bef681a-003b-48da-93d8-bd7702b1718e",
        "colab": {
          "base_uri": "https://localhost:8080/"
        }
      },
      "execution_count": 37,
      "outputs": [
        {
          "output_type": "execute_result",
          "data": {
            "text/plain": [
              "0.0"
            ]
          },
          "metadata": {},
          "execution_count": 37
        }
      ]
    },
    {
      "cell_type": "code",
      "source": [
        "print(list_A) #เปลี่ยนค่าใน list()\n",
        "list_A[-1] = 'Christmas'\n",
        "print(list_A)"
      ],
      "metadata": {
        "id": "5BWeK2FVIAcR",
        "outputId": "bee43d0d-da47-40e0-9bd5-f53365d76256",
        "colab": {
          "base_uri": "https://localhost:8080/"
        }
      },
      "execution_count": 38,
      "outputs": [
        {
          "output_type": "stream",
          "name": "stdout",
          "text": [
            "[1, 2, 3, 4, 5]\n",
            "[1, 2, 3, 4, 'Christmas']\n"
          ]
        }
      ]
    },
    {
      "cell_type": "markdown",
      "source": [
        "#### np.ones()\n",
        "\n"
      ],
      "metadata": {
        "id": "N5vbiX8DIIW0"
      }
    },
    {
      "cell_type": "code",
      "source": [
        "arr2_4_5_1 =np.ones((4,5))"
      ],
      "metadata": {
        "id": "VwWkwBb-IejK"
      },
      "execution_count": 39,
      "outputs": []
    },
    {
      "cell_type": "code",
      "source": [
        "arr2_4_5_1"
      ],
      "metadata": {
        "id": "S4QRwl6jIf_f",
        "outputId": "ece14d5e-ba5c-4ad9-9cb4-dc612f2408f2",
        "colab": {
          "base_uri": "https://localhost:8080/"
        }
      },
      "execution_count": 40,
      "outputs": [
        {
          "output_type": "execute_result",
          "data": {
            "text/plain": [
              "array([[1., 1., 1., 1., 1.],\n",
              "       [1., 1., 1., 1., 1.],\n",
              "       [1., 1., 1., 1., 1.],\n",
              "       [1., 1., 1., 1., 1.]])"
            ]
          },
          "metadata": {},
          "execution_count": 40
        }
      ]
    },
    {
      "cell_type": "code",
      "source": [
        "arr2_4_5_200 = 200*np.ones((4,5))"
      ],
      "metadata": {
        "id": "hye-Yqp5IhIs"
      },
      "execution_count": 41,
      "outputs": []
    },
    {
      "cell_type": "code",
      "source": [
        "arr2_4_5_200\n"
      ],
      "metadata": {
        "id": "0zjevyPiIicW",
        "outputId": "2f4668a6-e5ec-4429-b8e6-f5a8ff11cd8c",
        "colab": {
          "base_uri": "https://localhost:8080/"
        }
      },
      "execution_count": 42,
      "outputs": [
        {
          "output_type": "execute_result",
          "data": {
            "text/plain": [
              "array([[200., 200., 200., 200., 200.],\n",
              "       [200., 200., 200., 200., 200.],\n",
              "       [200., 200., 200., 200., 200.],\n",
              "       [200., 200., 200., 200., 200.]])"
            ]
          },
          "metadata": {},
          "execution_count": 42
        }
      ]
    },
    {
      "cell_type": "markdown",
      "source": [
        "#### Matrix operations"
      ],
      "metadata": {
        "id": "7OSscz58It8x"
      }
    },
    {
      "cell_type": "markdown",
      "source": [
        "##### การบวก ลบ matrix \n",
        "###### บวกลบตัวที่อยู่ตำแหน่งเดียวกัน"
      ],
      "metadata": {
        "id": "CGxlsYhQI4xT"
      }
    },
    {
      "cell_type": "code",
      "source": [
        "arr2_4_5_200 + arr2_3_5_0 #การบวก ลบ  matrix shape ต้องเท่ากัน"
      ],
      "metadata": {
        "id": "f3DFDHrSJ7Dz",
        "outputId": "93dc16eb-1829-4322-b086-07d82b0bfcbb",
        "colab": {
          "base_uri": "https://localhost:8080/",
          "height": 165
        }
      },
      "execution_count": 43,
      "outputs": [
        {
          "output_type": "error",
          "ename": "ValueError",
          "evalue": "ignored",
          "traceback": [
            "\u001b[0;31m---------------------------------------------------------------------------\u001b[0m",
            "\u001b[0;31mValueError\u001b[0m                                Traceback (most recent call last)",
            "\u001b[0;32m<ipython-input-43-dc12597d64c5>\u001b[0m in \u001b[0;36m<module>\u001b[0;34m()\u001b[0m\n\u001b[0;32m----> 1\u001b[0;31m \u001b[0marr2_4_5_200\u001b[0m \u001b[0;34m+\u001b[0m \u001b[0marr2_3_5_0\u001b[0m \u001b[0;31m#การบวก ลบ  matrix shape ต้องเท่ากัน\u001b[0m\u001b[0;34m\u001b[0m\u001b[0;34m\u001b[0m\u001b[0m\n\u001b[0m",
            "\u001b[0;31mValueError\u001b[0m: operands could not be broadcast together with shapes (4,5) (3,5) "
          ]
        }
      ]
    },
    {
      "cell_type": "code",
      "source": [
        "arr2_4_5_200 + arr2_4_5_1"
      ],
      "metadata": {
        "id": "55M34W3wJ9-p",
        "outputId": "d9988060-de5e-4164-c69c-86d03d10aecf",
        "colab": {
          "base_uri": "https://localhost:8080/"
        }
      },
      "execution_count": 44,
      "outputs": [
        {
          "output_type": "execute_result",
          "data": {
            "text/plain": [
              "array([[201., 201., 201., 201., 201.],\n",
              "       [201., 201., 201., 201., 201.],\n",
              "       [201., 201., 201., 201., 201.],\n",
              "       [201., 201., 201., 201., 201.]])"
            ]
          },
          "metadata": {},
          "execution_count": 44
        }
      ]
    },
    {
      "cell_type": "markdown",
      "source": [
        "#### การคูณ matrix\n",
        "\n",
        "- $aM$  scalar คูณ Matrix (scalar คูณกระจายเข้าไปทุกตัวของ Matrix)\n",
        "- $M\\times N$ Matrix คูณ Matrix (แถวคูณหลัก)"
      ],
      "metadata": {
        "id": "AlFw3e5hdhKW"
      }
    },
    {
      "cell_type": "markdown",
      "source": [
        "$aM$"
      ],
      "metadata": {
        "id": "zJ_AFvUve0WN"
      }
    },
    {
      "cell_type": "code",
      "source": [
        "5* arr_a #Matrix (scalar multiplication)"
      ],
      "metadata": {
        "colab": {
          "base_uri": "https://localhost:8080/"
        },
        "id": "FQH8-huocYX7",
        "outputId": "8ed072ca-72ac-4d0a-cecf-ed2c1126cc44"
      },
      "execution_count": 62,
      "outputs": [
        {
          "output_type": "execute_result",
          "data": {
            "text/plain": [
              "array([ 5, 10, 15, 20, 25])"
            ]
          },
          "metadata": {},
          "execution_count": 62
        }
      ]
    },
    {
      "cell_type": "markdown",
      "source": [
        "$M\\times N$ (dot product)\n",
        "- (m,n) $\\times$ (n,o) = (m,o) (Shape)\n",
        "\n",
        "![Unknown-2.gif](data:image/gif;base64,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)"
      ],
      "metadata": {
        "id": "7m2NWux4ppGQ"
      }
    },
    {
      "cell_type": "code",
      "source": [
        "mat_a = np.array([[2,3,5],[4,6,7]])\n",
        "mat_b = np.array([[1,2,5],[2,4,-7]])\n",
        "mat_c = np.array([[2,3],[4,6,],[7,9]])"
      ],
      "metadata": {
        "id": "QKul5bm-e4IW"
      },
      "execution_count": 63,
      "outputs": []
    },
    {
      "cell_type": "code",
      "source": [
        "mat_a"
      ],
      "metadata": {
        "colab": {
          "base_uri": "https://localhost:8080/"
        },
        "id": "hH9GxKF4gUff",
        "outputId": "7e4e2a17-777d-4d8a-f5f4-76b2aa343a8d"
      },
      "execution_count": 64,
      "outputs": [
        {
          "output_type": "execute_result",
          "data": {
            "text/plain": [
              "array([[2, 3, 5],\n",
              "       [4, 6, 7]])"
            ]
          },
          "metadata": {},
          "execution_count": 64
        }
      ]
    },
    {
      "cell_type": "code",
      "source": [
        "mat_b"
      ],
      "metadata": {
        "colab": {
          "base_uri": "https://localhost:8080/"
        },
        "id": "lCXcBxZlgUcl",
        "outputId": "5ef2754a-27a5-43ae-e52b-15dcf015a741"
      },
      "execution_count": 65,
      "outputs": [
        {
          "output_type": "execute_result",
          "data": {
            "text/plain": [
              "array([[ 1,  2,  5],\n",
              "       [ 2,  4, -7]])"
            ]
          },
          "metadata": {},
          "execution_count": 65
        }
      ]
    },
    {
      "cell_type": "code",
      "source": [
        "mat_c"
      ],
      "metadata": {
        "colab": {
          "base_uri": "https://localhost:8080/"
        },
        "id": "INf0Dw3IgURd",
        "outputId": "7bc4bff2-c35a-44c6-cc33-93836720132d"
      },
      "execution_count": 66,
      "outputs": [
        {
          "output_type": "execute_result",
          "data": {
            "text/plain": [
              "array([[2, 3],\n",
              "       [4, 6],\n",
              "       [7, 9]])"
            ]
          },
          "metadata": {},
          "execution_count": 66
        }
      ]
    },
    {
      "cell_type": "markdown",
      "source": [
        "axc, bxc, "
      ],
      "metadata": {
        "id": "TISmjb1ogaNs"
      }
    },
    {
      "cell_type": "code",
      "source": [
        "np.dot(mat_a,mat_c)"
      ],
      "metadata": {
        "colab": {
          "base_uri": "https://localhost:8080/"
        },
        "id": "bBnOMaQUglrn",
        "outputId": "b08c040c-1c23-4685-8a92-920074708828"
      },
      "execution_count": 67,
      "outputs": [
        {
          "output_type": "execute_result",
          "data": {
            "text/plain": [
              "array([[ 51,  69],\n",
              "       [ 81, 111]])"
            ]
          },
          "metadata": {},
          "execution_count": 67
        }
      ]
    },
    {
      "cell_type": "code",
      "source": [
        "np.dot(mat_b,mat_c)"
      ],
      "metadata": {
        "colab": {
          "base_uri": "https://localhost:8080/"
        },
        "id": "795lEbQ4gmYH",
        "outputId": "937fbc43-598e-48cc-e6a8-7f9131abc377"
      },
      "execution_count": 68,
      "outputs": [
        {
          "output_type": "execute_result",
          "data": {
            "text/plain": [
              "array([[ 45,  60],\n",
              "       [-29, -33]])"
            ]
          },
          "metadata": {},
          "execution_count": 68
        }
      ]
    },
    {
      "cell_type": "markdown",
      "source": [
        "cxa,cxb"
      ],
      "metadata": {
        "id": "-yWfm4rKhAaK"
      }
    },
    {
      "cell_type": "code",
      "source": [
        "np.dot(mat_c,mat_a)"
      ],
      "metadata": {
        "colab": {
          "base_uri": "https://localhost:8080/"
        },
        "id": "35XIWqizhE3R",
        "outputId": "0ecb4461-a4c2-4fb3-c035-f23a0b587edc"
      },
      "execution_count": 69,
      "outputs": [
        {
          "output_type": "execute_result",
          "data": {
            "text/plain": [
              "array([[16, 24, 31],\n",
              "       [32, 48, 62],\n",
              "       [50, 75, 98]])"
            ]
          },
          "metadata": {},
          "execution_count": 69
        }
      ]
    },
    {
      "cell_type": "code",
      "source": [
        "np.dot(mat_c,mat_b)"
      ],
      "metadata": {
        "colab": {
          "base_uri": "https://localhost:8080/"
        },
        "id": "hyIJvtNOhEXo",
        "outputId": "b1912ae0-fba1-4c60-b7fd-c097f8e45eeb"
      },
      "execution_count": 70,
      "outputs": [
        {
          "output_type": "execute_result",
          "data": {
            "text/plain": [
              "array([[  8,  16, -11],\n",
              "       [ 16,  32, -22],\n",
              "       [ 25,  50, -28]])"
            ]
          },
          "metadata": {},
          "execution_count": 70
        }
      ]
    },
    {
      "cell_type": "code",
      "source": [
        "mat_X = np.dot(mat_c,mat_b)\n",
        "print(mat_X)"
      ],
      "metadata": {
        "id": "5rrv8bDeqDKV",
        "outputId": "db304cf2-3217-497d-8bdb-370255157a61",
        "colab": {
          "base_uri": "https://localhost:8080/"
        }
      },
      "execution_count": 71,
      "outputs": [
        {
          "output_type": "stream",
          "name": "stdout",
          "text": [
            "[[  8  16 -11]\n",
            " [ 16  32 -22]\n",
            " [ 25  50 -28]]\n"
          ]
        }
      ]
    },
    {
      "cell_type": "code",
      "source": [
        "mat_a * mat_b #คูณตัวตำแหน่งเดียวกัน"
      ],
      "metadata": {
        "colab": {
          "base_uri": "https://localhost:8080/"
        },
        "id": "di0kLrNWhEL4",
        "outputId": "0d3e2047-d75b-4507-944f-195a9a478a07"
      },
      "execution_count": 72,
      "outputs": [
        {
          "output_type": "execute_result",
          "data": {
            "text/plain": [
              "array([[  2,   6,  25],\n",
              "       [  8,  24, -49]])"
            ]
          },
          "metadata": {},
          "execution_count": 72
        }
      ]
    },
    {
      "cell_type": "markdown",
      "source": [
        "#### Matrix Slicing"
      ],
      "metadata": {
        "id": "2iKmBONtK_Ig"
      }
    },
    {
      "cell_type": "code",
      "source": [
        "mat_X[:2,:2]"
      ],
      "metadata": {
        "id": "azvvmIKxLETY",
        "outputId": "4a984469-3714-44af-c1ee-d91b449fbf11",
        "colab": {
          "base_uri": "https://localhost:8080/"
        }
      },
      "execution_count": 56,
      "outputs": [
        {
          "output_type": "execute_result",
          "data": {
            "text/plain": [
              "array([[ 8, 16],\n",
              "       [16, 32]])"
            ]
          },
          "metadata": {},
          "execution_count": 56
        }
      ]
    },
    {
      "cell_type": "markdown",
      "source": [
        "HW3"
      ],
      "metadata": {
        "id": "JaB_CFfGLKmF"
      }
    },
    {
      "cell_type": "markdown",
      "source": [
        "1. สร้าง array ที่เป็นรูปต้น Christmas\n",
        "2. slice เลข 1 ออกมาจาก array HW3 ด้วยการ slice แค่ครั้งเดียว"
      ],
      "metadata": {
        "id": "nVf4t2TnLO6d"
      }
    },
    {
      "cell_type": "code",
      "source": [
        "MERRYXMAS = np.ones((13,13))\n",
        "MERRYXMAS"
      ],
      "metadata": {
        "id": "D0WwnDxxLlDp",
        "outputId": "7e83c833-bedb-4365-b5f2-ea493dc86585",
        "colab": {
          "base_uri": "https://localhost:8080/"
        }
      },
      "execution_count": 57,
      "outputs": [
        {
          "output_type": "execute_result",
          "data": {
            "text/plain": [
              "array([[1., 1., 1., 1., 1., 1., 1., 1., 1., 1., 1., 1., 1.],\n",
              "       [1., 1., 1., 1., 1., 1., 1., 1., 1., 1., 1., 1., 1.],\n",
              "       [1., 1., 1., 1., 1., 1., 1., 1., 1., 1., 1., 1., 1.],\n",
              "       [1., 1., 1., 1., 1., 1., 1., 1., 1., 1., 1., 1., 1.],\n",
              "       [1., 1., 1., 1., 1., 1., 1., 1., 1., 1., 1., 1., 1.],\n",
              "       [1., 1., 1., 1., 1., 1., 1., 1., 1., 1., 1., 1., 1.],\n",
              "       [1., 1., 1., 1., 1., 1., 1., 1., 1., 1., 1., 1., 1.],\n",
              "       [1., 1., 1., 1., 1., 1., 1., 1., 1., 1., 1., 1., 1.],\n",
              "       [1., 1., 1., 1., 1., 1., 1., 1., 1., 1., 1., 1., 1.],\n",
              "       [1., 1., 1., 1., 1., 1., 1., 1., 1., 1., 1., 1., 1.],\n",
              "       [1., 1., 1., 1., 1., 1., 1., 1., 1., 1., 1., 1., 1.],\n",
              "       [1., 1., 1., 1., 1., 1., 1., 1., 1., 1., 1., 1., 1.],\n",
              "       [1., 1., 1., 1., 1., 1., 1., 1., 1., 1., 1., 1., 1.]])"
            ]
          },
          "metadata": {},
          "execution_count": 57
        }
      ]
    },
    {
      "cell_type": "code",
      "source": [
        "MERRYXMAS[0,5] = 88\n",
        "MERRYXMAS[1,5:7] =  88 #แถวที่1 หลักที่5 คือตัวที่ 6 (ตัวทึบ) ถึง หลักที่7 คือ ตัวที่ 7 (ตัวโปร่ง)\n",
        "MERRYXMAS[2,4:8] = 88\n",
        "MERRYXMAS[3,5:7] = 88\n",
        "MERRYXMAS[4,4:8] = 88\n",
        "MERRYXMAS[5,3:9] = 88\n",
        "MERRYXMAS[6,4:8] = 88\n",
        "MERRYXMAS[7,3:9] = 88\n",
        "MERRYXMAS[8,2:10] = 88\n",
        "MERRYXMAS[9,1:11] = 88\n",
        "MERRYXMAS[10,4:8] = 88\n",
        "MERRYXMAS[11,4:8] = 88\n",
        "MERRYXMAS"
      ],
      "metadata": {
        "id": "wNLTlBl4LoTU",
        "outputId": "daf395a4-08f9-43a1-aa64-85351c0cf454",
        "colab": {
          "base_uri": "https://localhost:8080/"
        }
      },
      "execution_count": 58,
      "outputs": [
        {
          "output_type": "execute_result",
          "data": {
            "text/plain": [
              "array([[ 1.,  1.,  1.,  1.,  1., 88.,  1.,  1.,  1.,  1.,  1.,  1.,  1.],\n",
              "       [ 1.,  1.,  1.,  1.,  1., 88., 88.,  1.,  1.,  1.,  1.,  1.,  1.],\n",
              "       [ 1.,  1.,  1.,  1., 88., 88., 88., 88.,  1.,  1.,  1.,  1.,  1.],\n",
              "       [ 1.,  1.,  1.,  1.,  1., 88., 88.,  1.,  1.,  1.,  1.,  1.,  1.],\n",
              "       [ 1.,  1.,  1.,  1., 88., 88., 88., 88.,  1.,  1.,  1.,  1.,  1.],\n",
              "       [ 1.,  1.,  1., 88., 88., 88., 88., 88., 88.,  1.,  1.,  1.,  1.],\n",
              "       [ 1.,  1.,  1.,  1., 88., 88., 88., 88.,  1.,  1.,  1.,  1.,  1.],\n",
              "       [ 1.,  1.,  1., 88., 88., 88., 88., 88., 88.,  1.,  1.,  1.,  1.],\n",
              "       [ 1.,  1., 88., 88., 88., 88., 88., 88., 88., 88.,  1.,  1.,  1.],\n",
              "       [ 1., 88., 88., 88., 88., 88., 88., 88., 88., 88., 88.,  1.,  1.],\n",
              "       [ 1.,  1.,  1.,  1., 88., 88., 88., 88.,  1.,  1.,  1.,  1.,  1.],\n",
              "       [ 1.,  1.,  1.,  1., 88., 88., 88., 88.,  1.,  1.,  1.,  1.,  1.],\n",
              "       [ 1.,  1.,  1.,  1.,  1.,  1.,  1.,  1.,  1.,  1.,  1.,  1.,  1.]])"
            ]
          },
          "metadata": {},
          "execution_count": 58
        }
      ]
    },
    {
      "cell_type": "code",
      "source": [
        "HW3 = np.zeros((10,10))\n",
        "HW3"
      ],
      "metadata": {
        "id": "u22weCdRL47e",
        "outputId": "aad53d60-5a7c-4017-ecd8-8da897f7c8a2",
        "colab": {
          "base_uri": "https://localhost:8080/"
        }
      },
      "execution_count": 59,
      "outputs": [
        {
          "output_type": "execute_result",
          "data": {
            "text/plain": [
              "array([[0., 0., 0., 0., 0., 0., 0., 0., 0., 0.],\n",
              "       [0., 0., 0., 0., 0., 0., 0., 0., 0., 0.],\n",
              "       [0., 0., 0., 0., 0., 0., 0., 0., 0., 0.],\n",
              "       [0., 0., 0., 0., 0., 0., 0., 0., 0., 0.],\n",
              "       [0., 0., 0., 0., 0., 0., 0., 0., 0., 0.],\n",
              "       [0., 0., 0., 0., 0., 0., 0., 0., 0., 0.],\n",
              "       [0., 0., 0., 0., 0., 0., 0., 0., 0., 0.],\n",
              "       [0., 0., 0., 0., 0., 0., 0., 0., 0., 0.],\n",
              "       [0., 0., 0., 0., 0., 0., 0., 0., 0., 0.],\n",
              "       [0., 0., 0., 0., 0., 0., 0., 0., 0., 0.]])"
            ]
          },
          "metadata": {},
          "execution_count": 59
        }
      ]
    },
    {
      "cell_type": "markdown",
      "source": [
        "2. slice เลข 1 ออกมาจาก array HW3 ด้วยการ slice แค่ครั้งเดียว"
      ],
      "metadata": {
        "id": "uraW33BBL78p"
      }
    },
    {
      "cell_type": "code",
      "source": [
        "HW3[::4,2] = 1 #เอาทั้งแถวหรือเอาทุกหลัก ข้ามไปทีละ 4 step หลักที่ 2 แทนด้วย 1\n",
        "HW3[::4,4] = 1\n",
        "HW3[::4,6] = 1\n",
        "HW3[::4,8] = 1\n",
        "HW3"
      ],
      "metadata": {
        "id": "h0xvVgxtMBvx",
        "outputId": "190f1a78-9040-48a7-cb5b-a09cefef1bd7",
        "colab": {
          "base_uri": "https://localhost:8080/"
        }
      },
      "execution_count": 60,
      "outputs": [
        {
          "output_type": "execute_result",
          "data": {
            "text/plain": [
              "array([[0., 0., 1., 0., 1., 0., 1., 0., 1., 0.],\n",
              "       [0., 0., 0., 0., 0., 0., 0., 0., 0., 0.],\n",
              "       [0., 0., 0., 0., 0., 0., 0., 0., 0., 0.],\n",
              "       [0., 0., 0., 0., 0., 0., 0., 0., 0., 0.],\n",
              "       [0., 0., 1., 0., 1., 0., 1., 0., 1., 0.],\n",
              "       [0., 0., 0., 0., 0., 0., 0., 0., 0., 0.],\n",
              "       [0., 0., 0., 0., 0., 0., 0., 0., 0., 0.],\n",
              "       [0., 0., 0., 0., 0., 0., 0., 0., 0., 0.],\n",
              "       [0., 0., 1., 0., 1., 0., 1., 0., 1., 0.],\n",
              "       [0., 0., 0., 0., 0., 0., 0., 0., 0., 0.]])"
            ]
          },
          "metadata": {},
          "execution_count": 60
        }
      ]
    },
    {
      "cell_type": "code",
      "source": [
        "HW3[::4,2::2] # ตัดโดยเอาทุกหลักโดยนับทีละ 4 step และเอาตั้งแต่หลักที่ 2 ไปโดยนับที่ละ 2 st"
      ],
      "metadata": {
        "id": "73yK1pkJMFcl",
        "outputId": "94893e6c-c4ef-41c4-dba5-de4646757fe5",
        "colab": {
          "base_uri": "https://localhost:8080/"
        }
      },
      "execution_count": 61,
      "outputs": [
        {
          "output_type": "execute_result",
          "data": {
            "text/plain": [
              "array([[1., 1., 1., 1.],\n",
              "       [1., 1., 1., 1.],\n",
              "       [1., 1., 1., 1.]])"
            ]
          },
          "metadata": {},
          "execution_count": 61
        }
      ]
    },
    {
      "cell_type": "markdown",
      "source": [
        "### Pandas Dataform (แยกออกไปเป็น Notebook เฉพาะ)"
      ],
      "metadata": {
        "id": "YpDsxRXzMKiR"
      }
    }
  ]
}