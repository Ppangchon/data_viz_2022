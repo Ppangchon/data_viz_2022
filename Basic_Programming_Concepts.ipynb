{
  "nbformat": 4,
  "nbformat_minor": 0,
  "metadata": {
    "colab": {
      "name": "Untitled2.ipynb",
      "provenance": [],
      "authorship_tag": "ABX9TyMCgr+IF7gbSs2e+ie1Tp02",
      "include_colab_link": true
    },
    "kernelspec": {
      "name": "python3",
      "display_name": "Python 3"
    },
    "language_info": {
      "name": "python"
    }
  },
  "cells": [
    {
      "cell_type": "markdown",
      "metadata": {
        "id": "view-in-github",
        "colab_type": "text"
      },
      "source": [
        "<a href=\"https://colab.research.google.com/github/Ppangchon/data_viz_2022/blob/main/Basic_Programming_Concepts.ipynb\" target=\"_parent\"><img src=\"https://colab.research.google.com/assets/colab-badge.svg\" alt=\"Open In Colab\"/></a>"
      ]
    },
    {
      "cell_type": "markdown",
      "source": [
        "## Function ($f(x)=y$)"
      ],
      "metadata": {
        "id": "-9GAR7vhDtlh"
      }
    },
    {
      "cell_type": "markdown",
      "source": [
        "``` python \n",
        "def function(inputx):\n",
        "  #do something with input x to get output_y\n",
        "  return output_y\n",
        "  ``` "
      ],
      "metadata": {
        "id": "sHkS0CsmEMxI"
      }
    },
    {
      "cell_type": "markdown",
      "source": [
        "$f_1(x)= x^2 + 75$"
      ],
      "metadata": {
        "id": "WQvG_bsmF2dE"
      }
    },
    {
      "cell_type": "code",
      "execution_count": 1,
      "metadata": {
        "id": "ZhDWRanWDqwW"
      },
      "outputs": [],
      "source": [
        "def function_f1(x):\n",
        "  a = x**2\n",
        "  y = a + 75\n",
        "  return y\n",
        "\n",
        "  print('done!')"
      ]
    },
    {
      "cell_type": "code",
      "source": [
        "function_f1(3)"
      ],
      "metadata": {
        "colab": {
          "base_uri": "https://localhost:8080/"
        },
        "id": "c593RhFJD9_r",
        "outputId": "e055fd7a-2bc8-46cd-b9d7-79657559a9b4"
      },
      "execution_count": 2,
      "outputs": [
        {
          "output_type": "execute_result",
          "data": {
            "text/plain": [
              "84"
            ]
          },
          "metadata": {},
          "execution_count": 2
        }
      ]
    },
    {
      "cell_type": "markdown",
      "source": [
        "function มีส่วนสำคัญทั้งหมด 4 ส่วน\n",
        "\n",
        "1. บอก python ว่าเราจะเขียนฟังก์ชั่น ชื่ออะไร  `def function_name()`: (ขาดไม่ได้)\n",
        "2. กำหนดตัวแปรที่จะเป็น input  _Input_ (ขาดได้)\n",
        "3. ส่วนประมวลผล do_something with _Input_ to get _Output_ (ขาดไม่ได้)\n",
        "4. ส่วน output `return` _Output_(ขาดได้)"
      ],
      "metadata": {
        "id": "u98RQno_HOkT"
      }
    },
    {
      "cell_type": "markdown",
      "source": [
        "### ตัวอย่าง funtion ที่มีส่วนประกอบครบ"
      ],
      "metadata": {
        "id": "heXeqY8IIPmL"
      }
    },
    {
      "cell_type": "code",
      "source": [
        "def function_f1(x):\n",
        "  a = x**2\n",
        "  y = a + 75\n",
        "  return y"
      ],
      "metadata": {
        "id": "Yk5NXc5XD98u"
      },
      "execution_count": 3,
      "outputs": []
    },
    {
      "cell_type": "markdown",
      "source": [
        "### ตัวอย่าง funtion ที่ไม่มี input"
      ],
      "metadata": {
        "id": "NregCSiXIhm7"
      }
    },
    {
      "cell_type": "code",
      "source": [
        "def pi_v():\n",
        "  y = 3.14159265359\n",
        "  return y"
      ],
      "metadata": {
        "id": "D99-OMDiD95Y"
      },
      "execution_count": 4,
      "outputs": []
    },
    {
      "cell_type": "code",
      "source": [
        "piv = pi_v()\n",
        "circle_area_r2 = piv*(2*2)\n",
        "print(circle_area_r2)"
      ],
      "metadata": {
        "colab": {
          "base_uri": "https://localhost:8080/"
        },
        "id": "w5mZxXtgD91x",
        "outputId": "8ae31207-c63c-4a69-d1fc-b17c78830c98"
      },
      "execution_count": 5,
      "outputs": [
        {
          "output_type": "stream",
          "name": "stdout",
          "text": [
            "12.56637061436\n"
          ]
        }
      ]
    },
    {
      "cell_type": "markdown",
      "source": [
        "### Function ไม่มี process ไม่ได้"
      ],
      "metadata": {
        "id": "qqcoV9aUJN6i"
      }
    },
    {
      "cell_type": "code",
      "source": [
        "def function_a():"
      ],
      "metadata": {
        "colab": {
          "base_uri": "https://localhost:8080/",
          "height": 130
        },
        "id": "xwY5vBGrD9y2",
        "outputId": "4f507ee8-b1fa-4a68-9a71-d1c5fe1b99eb"
      },
      "execution_count": 6,
      "outputs": [
        {
          "output_type": "error",
          "ename": "SyntaxError",
          "evalue": "ignored",
          "traceback": [
            "\u001b[0;36m  File \u001b[0;32m\"<ipython-input-6-07a0750214a8>\"\u001b[0;36m, line \u001b[0;32m1\u001b[0m\n\u001b[0;31m    def function_a():\u001b[0m\n\u001b[0m                     ^\u001b[0m\n\u001b[0;31mSyntaxError\u001b[0m\u001b[0;31m:\u001b[0m unexpected EOF while parsing\n"
          ]
        }
      ]
    },
    {
      "cell_type": "markdown",
      "source": [
        "### ตัวอย่าง Function ที่ไม่มี output"
      ],
      "metadata": {
        "id": "RrU6vxLoJYij"
      }
    },
    {
      "cell_type": "code",
      "source": [
        "def print_name_id(name,id):\n",
        "  print(f'ชื่อ {name} รหัสประจำตัว {id}')"
      ],
      "metadata": {
        "id": "JAmrX1sPD9vU"
      },
      "execution_count": 7,
      "outputs": []
    },
    {
      "cell_type": "code",
      "source": [
        "print_name_id('ณัฐธิดา','623020435-1')"
      ],
      "metadata": {
        "colab": {
          "base_uri": "https://localhost:8080/"
        },
        "id": "8K9MvEeDD9r_",
        "outputId": "62d814f3-5e9e-4a45-b7c4-a1d1c3e084a5"
      },
      "execution_count": 8,
      "outputs": [
        {
          "output_type": "stream",
          "name": "stdout",
          "text": [
            "ชื่อ ณัฐธิดา รหัสประจำตัว 623020435-1\n"
          ]
        }
      ]
    },
    {
      "cell_type": "code",
      "source": [
        "a"
      ],
      "metadata": {
        "colab": {
          "base_uri": "https://localhost:8080/",
          "height": 165
        },
        "id": "ZBC4VaTyKmD9",
        "outputId": "8f48b02f-24c9-438f-bb7a-2f19c6814dc9"
      },
      "execution_count": 9,
      "outputs": [
        {
          "output_type": "error",
          "ename": "NameError",
          "evalue": "ignored",
          "traceback": [
            "\u001b[0;31m---------------------------------------------------------------------------\u001b[0m",
            "\u001b[0;31mNameError\u001b[0m                                 Traceback (most recent call last)",
            "\u001b[0;32m<ipython-input-9-3f786850e387>\u001b[0m in \u001b[0;36m<module>\u001b[0;34m()\u001b[0m\n\u001b[0;32m----> 1\u001b[0;31m \u001b[0ma\u001b[0m\u001b[0;34m\u001b[0m\u001b[0;34m\u001b[0m\u001b[0m\n\u001b[0m",
            "\u001b[0;31mNameError\u001b[0m: name 'a' is not defined"
          ]
        }
      ]
    },
    {
      "cell_type": "markdown",
      "source": [
        "ตัวอย่าง function print "
      ],
      "metadata": {
        "id": "eNNVzi9YO9a6"
      }
    },
    {
      "cell_type": "code",
      "source": [
        "print('ณัฐธิดา',end='->')\n",
        "print('623020435-1')"
      ],
      "metadata": {
        "colab": {
          "base_uri": "https://localhost:8080/"
        },
        "id": "0SZZy-MZPDTQ",
        "outputId": "34d3fb75-8c3c-4ac9-f8c7-410db249a40e"
      },
      "execution_count": 10,
      "outputs": [
        {
          "output_type": "stream",
          "name": "stdout",
          "text": [
            "ณัฐธิดา->623020435-1\n"
          ]
        }
      ]
    },
    {
      "cell_type": "code",
      "source": [
        "print('ณัฐธิดา' , '623020435-1')"
      ],
      "metadata": {
        "colab": {
          "base_uri": "https://localhost:8080/"
        },
        "id": "XX1BlvHPPDE7",
        "outputId": "024d7038-1528-4532-c2f1-a2e20586f89c"
      },
      "execution_count": null,
      "outputs": [
        {
          "output_type": "stream",
          "name": "stdout",
          "text": [
            "ณัฐธิดา 623020435-1\n"
          ]
        }
      ]
    },
    {
      "cell_type": "code",
      "source": [
        "print('ณัฐธิดา' , '623020435-1' , sep= '&')"
      ],
      "metadata": {
        "colab": {
          "base_uri": "https://localhost:8080/"
        },
        "id": "mbo3CEFjP895",
        "outputId": "4e4465db-c310-443d-a93a-c4084c85ace3"
      },
      "execution_count": null,
      "outputs": [
        {
          "output_type": "stream",
          "name": "stdout",
          "text": [
            "ณัฐธิดา&623020435-1\n"
          ]
        }
      ]
    },
    {
      "cell_type": "markdown",
      "source": [
        "##input ของ function แบ่งเป็น 2 ชนิด (จำเป็นต้องใส่ กับ ไม่จำเป็นต้องใส่)"
      ],
      "metadata": {
        "id": "Ort1xFLBQVIB"
      }
    },
    {
      "cell_type": "markdown",
      "source": [
        "ตัวอย่าง function print_grade() มี input 3 ตัว จำเป็นต้องใส่ 2 ตัว คือ name กับ id และไม่จำเป็นต้องใส่ 1 ตัว คือเกรด ซึ่งมีค่า default เป็น F  "
      ],
      "metadata": {
        "id": "rs8PN0y1Ramc"
      }
    },
    {
      "cell_type": "code",
      "source": [
        "def print_grade(name,id,grade = 'F'):\n",
        "  print(f'รหัสประจำตัว {id} ชื่อ {name}')\n",
        "  print(f'ได้เกรด {grade}')"
      ],
      "metadata": {
        "id": "1uCguk17QpNQ"
      },
      "execution_count": 11,
      "outputs": []
    },
    {
      "cell_type": "code",
      "source": [
        "print_grade('นายสิทธัตกะ จรัสแสง', 'ุ623020541-2', 'F')"
      ],
      "metadata": {
        "colab": {
          "base_uri": "https://localhost:8080/"
        },
        "id": "yO7xeAUhQpE7",
        "outputId": "adcae378-15f8-4133-8c95-7c97619ad2e2"
      },
      "execution_count": 12,
      "outputs": [
        {
          "output_type": "stream",
          "name": "stdout",
          "text": [
            "รหัสประจำตัว ุ623020541-2 ชื่อ นายสิทธัตกะ จรัสแสง\n",
            "ได้เกรด F\n"
          ]
        }
      ]
    },
    {
      "cell_type": "code",
      "source": [
        "print_grade('นายสิทธัตกะ จรัสแสง','623020541-2','A')"
      ],
      "metadata": {
        "colab": {
          "base_uri": "https://localhost:8080/"
        },
        "id": "DrH1fog2QpBR",
        "outputId": "2701b002-edea-4bd3-82f3-b1ea7c8e42a9"
      },
      "execution_count": 13,
      "outputs": [
        {
          "output_type": "stream",
          "name": "stdout",
          "text": [
            "รหัสประจำตัว 623020541-2 ชื่อ นายสิทธัตกะ จรัสแสง\n",
            "ได้เกรด A\n"
          ]
        }
      ]
    },
    {
      "cell_type": "code",
      "source": [
        "print_grade(id='623020541-2',name='นายสิทธัตกะ จรัสแสง',grade='B+')"
      ],
      "metadata": {
        "colab": {
          "base_uri": "https://localhost:8080/"
        },
        "id": "-Z6JKPb6Qo-b",
        "outputId": "d0710d06-0d63-48d4-b767-2ced9731e656"
      },
      "execution_count": 14,
      "outputs": [
        {
          "output_type": "stream",
          "name": "stdout",
          "text": [
            "รหัสประจำตัว 623020541-2 ชื่อ นายสิทธัตกะ จรัสแสง\n",
            "ได้เกรด B+\n"
          ]
        }
      ]
    },
    {
      "cell_type": "markdown",
      "source": [
        "## Looping (for)"
      ],
      "metadata": {
        "id": "-a9lgfamD-2P"
      }
    },
    {
      "cell_type": "markdown",
      "source": [
        "``` python \n",
        "for member in listEx:\n",
        "  do_something() #กด 1 tab เพื่อวนซ้ำ\n",
        "```"
      ],
      "metadata": {
        "id": "TGOBc2mNTYEl"
      }
    },
    {
      "cell_type": "code",
      "source": [
        "for member in [1,2,3,4,5,6]:\n",
        "    print(member)"
      ],
      "metadata": {
        "id": "HYITgTSQTTk9",
        "outputId": "e5a12cc7-ed69-4c74-bb59-453d8e12fc66",
        "colab": {
          "base_uri": "https://localhost:8080/"
        }
      },
      "execution_count": 15,
      "outputs": [
        {
          "output_type": "stream",
          "name": "stdout",
          "text": [
            "1\n",
            "2\n",
            "3\n",
            "4\n",
            "5\n",
            "6\n"
          ]
        }
      ]
    },
    {
      "cell_type": "code",
      "source": [
        "def print_name(name):\n",
        "    print(f'ฉันชื่อ {name}')"
      ],
      "metadata": {
        "id": "Y_idxxLjTThZ"
      },
      "execution_count": 16,
      "outputs": []
    },
    {
      "cell_type": "code",
      "source": [
        "for name in['วัชราภรณ์', 'จุฑากาญน์', 'ชลธิชา', 'ญาดา', 'กิตติคุณ']:\n",
        "    N=name\n",
        "    print_name(N)"
      ],
      "metadata": {
        "id": "j3CDnAJXTTeO",
        "outputId": "a70109a0-4993-466b-caa8-e5491e897cf7",
        "colab": {
          "base_uri": "https://localhost:8080/"
        }
      },
      "execution_count": 17,
      "outputs": [
        {
          "output_type": "stream",
          "name": "stdout",
          "text": [
            "ฉันชื่อ วัชราภรณ์\n",
            "ฉันชื่อ จุฑากาญน์\n",
            "ฉันชื่อ ชลธิชา\n",
            "ฉันชื่อ ญาดา\n",
            "ฉันชื่อ กิตติคุณ\n"
          ]
        }
      ]
    },
    {
      "cell_type": "code",
      "source": [
        "list_name_id_grade = [['นางสาวเบญญาภา ระภูเขียว','623020527-6','B'],\n",
        "                                  ['นางสาวทักษิณา ราชหุ่น','623021000-1','A'],\n",
        "                                  ['นางสาวปลายฟ้า คำเพ็ง', '623021005-1', 'C']]"
      ],
      "metadata": {
        "id": "elYPzYVITTbZ"
      },
      "execution_count": 18,
      "outputs": []
    },
    {
      "cell_type": "code",
      "source": [
        "for each in list_name_id_grade:\n",
        "    name = each[0]\n",
        "    id = each[1]\n",
        "    grade = each[2]\n",
        "    print_grade(name,id,grade)\n",
        "    print('-----------------------')"
      ],
      "metadata": {
        "id": "pfNG-UVPTTYT",
        "outputId": "15d8a9e1-0979-4b8e-a097-d2947f49793e",
        "colab": {
          "base_uri": "https://localhost:8080/"
        }
      },
      "execution_count": 19,
      "outputs": [
        {
          "output_type": "stream",
          "name": "stdout",
          "text": [
            "รหัสประจำตัว 623020527-6 ชื่อ นางสาวเบญญาภา ระภูเขียว\n",
            "ได้เกรด B\n",
            "-----------------------\n",
            "รหัสประจำตัว 623021000-1 ชื่อ นางสาวทักษิณา ราชหุ่น\n",
            "ได้เกรด A\n",
            "-----------------------\n",
            "รหัสประจำตัว 623021005-1 ชื่อ นางสาวปลายฟ้า คำเพ็ง\n",
            "ได้เกรด C\n",
            "-----------------------\n"
          ]
        }
      ]
    },
    {
      "cell_type": "markdown",
      "source": [
        "### ใช้ for loop เพิ่มสมาชิกใน list"
      ],
      "metadata": {
        "id": "J-BCgfl8YxBS"
      }
    },
    {
      "cell_type": "code",
      "source": [
        "list_name =[]\n",
        "list_id =[]\n",
        "list_grade = []\n",
        "for each in list_name_id_grade:\n",
        "    list_name.append(each[0])\n",
        "    list_id.append(each[1])\n",
        "    list_grade.append(each[2])"
      ],
      "metadata": {
        "id": "d1oBlq7qY6WR"
      },
      "execution_count": 20,
      "outputs": []
    },
    {
      "cell_type": "code",
      "source": [
        "list_name"
      ],
      "metadata": {
        "id": "zPSXdchoTTVp",
        "outputId": "231a8ef9-feb1-4cf7-a5b4-cdd6db615f6a",
        "colab": {
          "base_uri": "https://localhost:8080/"
        }
      },
      "execution_count": 21,
      "outputs": [
        {
          "output_type": "execute_result",
          "data": {
            "text/plain": [
              "['นางสาวเบญญาภา ระภูเขียว', 'นางสาวทักษิณา ราชหุ่น', 'นางสาวปลายฟ้า คำเพ็ง']"
            ]
          },
          "metadata": {},
          "execution_count": 21
        }
      ]
    },
    {
      "cell_type": "markdown",
      "source": [
        "### การวนลูปด้วย range()"
      ],
      "metadata": {
        "id": "ZjPiVbg_barR"
      }
    },
    {
      "cell_type": "code",
      "source": [
        "for i in range(100):\n",
        "  print('งง' ,end = ' ')"
      ],
      "metadata": {
        "id": "PTkAXb2Abotm",
        "outputId": "17bb1662-31d0-45e7-88b7-cea0162bc155",
        "colab": {
          "base_uri": "https://localhost:8080/"
        }
      },
      "execution_count": 22,
      "outputs": [
        {
          "output_type": "stream",
          "name": "stdout",
          "text": [
            "งง งง งง งง งง งง งง งง งง งง งง งง งง งง งง งง งง งง งง งง งง งง งง งง งง งง งง งง งง งง งง งง งง งง งง งง งง งง งง งง งง งง งง งง งง งง งง งง งง งง งง งง งง งง งง งง งง งง งง งง งง งง งง งง งง งง งง งง งง งง งง งง งง งง งง งง งง งง งง งง งง งง งง งง งง งง งง งง งง งง งง งง งง งง งง งง งง งง งง งง "
          ]
        }
      ]
    },
    {
      "cell_type": "markdown",
      "source": [
        "## Loop ซ้อน Loop"
      ],
      "metadata": {
        "id": "BvXC93_zcTqO"
      }
    },
    {
      "cell_type": "code",
      "source": [
        "for mem1 in range(2,5): #[2,3,4]\n",
        "  print(f'now mem1 = {mem1}')\n",
        "  for mem2 in range(1,13): #[1,2,3,4,5,6,7,8,9,10,11,12]\n",
        "    print(f'{mem1} x {mem2} = {mem1*mem2}')\n",
        "  print(f'end inner for mem1 = {mem1}')"
      ],
      "metadata": {
        "id": "T6fs-wEXcSYP",
        "outputId": "e33d927a-3aea-4516-cb96-acbacc515ed0",
        "colab": {
          "base_uri": "https://localhost:8080/"
        }
      },
      "execution_count": 26,
      "outputs": [
        {
          "output_type": "stream",
          "name": "stdout",
          "text": [
            "now mem1 = 2\n",
            "2 x 1 = 2\n",
            "2 x 2 = 4\n",
            "2 x 3 = 6\n",
            "2 x 4 = 8\n",
            "2 x 5 = 10\n",
            "2 x 6 = 12\n",
            "2 x 7 = 14\n",
            "2 x 8 = 16\n",
            "2 x 9 = 18\n",
            "2 x 10 = 20\n",
            "2 x 11 = 22\n",
            "2 x 12 = 24\n",
            "end inner for mem1 = 2\n",
            "now mem1 = 3\n",
            "3 x 1 = 3\n",
            "3 x 2 = 6\n",
            "3 x 3 = 9\n",
            "3 x 4 = 12\n",
            "3 x 5 = 15\n",
            "3 x 6 = 18\n",
            "3 x 7 = 21\n",
            "3 x 8 = 24\n",
            "3 x 9 = 27\n",
            "3 x 10 = 30\n",
            "3 x 11 = 33\n",
            "3 x 12 = 36\n",
            "end inner for mem1 = 3\n",
            "now mem1 = 4\n",
            "4 x 1 = 4\n",
            "4 x 2 = 8\n",
            "4 x 3 = 12\n",
            "4 x 4 = 16\n",
            "4 x 5 = 20\n",
            "4 x 6 = 24\n",
            "4 x 7 = 28\n",
            "4 x 8 = 32\n",
            "4 x 9 = 36\n",
            "4 x 10 = 40\n",
            "4 x 11 = 44\n",
            "4 x 12 = 48\n",
            "end inner for mem1 = 4\n"
          ]
        }
      ]
    },
    {
      "cell_type": "markdown",
      "source": [
        "## Loop in Function"
      ],
      "metadata": {
        "id": "t_3Pl2VwgUzF"
      }
    },
    {
      "cell_type": "code",
      "source": [
        "def print_grade_loop(names,grades):\n",
        "    for n,g in zip(names,grades):\n",
        "      print(f'{n} ได้เกรด {g}')"
      ],
      "metadata": {
        "id": "hyQc46lbgeNY"
      },
      "execution_count": 27,
      "outputs": []
    },
    {
      "cell_type": "code",
      "source": [
        "print_grade_loop(list_name,list_grade)"
      ],
      "metadata": {
        "id": "VfXuqlnTge04",
        "outputId": "e55bec5b-b79a-42ff-fd24-fb23263f66c6",
        "colab": {
          "base_uri": "https://localhost:8080/"
        }
      },
      "execution_count": 28,
      "outputs": [
        {
          "output_type": "stream",
          "name": "stdout",
          "text": [
            "นางสาวเบญญาภา ระภูเขียว ได้เกรด B\n",
            "นางสาวทักษิณา ราชหุ่น ได้เกรด A\n",
            "นางสาวปลายฟ้า คำเพ็ง ได้เกรด C\n"
          ]
        }
      ]
    },
    {
      "cell_type": "markdown",
      "source": [
        "## Conditional Statement"
      ],
      "metadata": {
        "id": "kfLOqrfDEDnc"
      }
    },
    {
      "cell_type": "markdown",
      "source": [
        "``` python \n",
        "if condition1:\n",
        "      do_something() ##ถ้า condition1 เป็นจริง ทำ do_something()\n",
        "elif condition2:\n",
        "     do_another_thing() ##ถ้า condition1 ไม่เป็นจริงแต่ condition2 เป็ยจริง ทำ do_another_thing()\n",
        "else:\n",
        "    do_the_last_thing() ##ถ้าไม่มี condition ไหนเป็นจริงเลย ทำ do_the_last_thing()\n",
        "``` "
      ],
      "metadata": {
        "id": "IiV9vHGDijoM"
      }
    },
    {
      "cell_type": "code",
      "source": [
        "for n in list_name:\n",
        "      if len(n)>20:\n",
        "        print(f'{n} ได้เกรด A')\n",
        "      else:\n",
        "        print(f'{n} ได้เกรด F')"
      ],
      "metadata": {
        "id": "8scxcbg2hws5",
        "outputId": "cfc96530-cead-4bb6-a1ea-e332b588534e",
        "colab": {
          "base_uri": "https://localhost:8080/"
        }
      },
      "execution_count": 29,
      "outputs": [
        {
          "output_type": "stream",
          "name": "stdout",
          "text": [
            "นางสาวเบญญาภา ระภูเขียว ได้เกรด A\n",
            "นางสาวทักษิณา ราชหุ่น ได้เกรด A\n",
            "นางสาวปลายฟ้า คำเพ็ง ได้เกรด F\n"
          ]
        }
      ]
    },
    {
      "cell_type": "markdown",
      "source": [
        "### operator ที่ใช้ตรวจสอบ condition\n",
        "==, !=, >=, <=, <, >, and, or"
      ],
      "metadata": {
        "id": "aU4m6e-vkTHv"
      }
    },
    {
      "cell_type": "code",
      "source": [
        "a = 10 == 20\n",
        "print(a)"
      ],
      "metadata": {
        "id": "jW02GmMqhwpy",
        "outputId": "4fd319d0-03da-4495-8fa0-ff20ad6bbb7d",
        "colab": {
          "base_uri": "https://localhost:8080/"
        }
      },
      "execution_count": 30,
      "outputs": [
        {
          "output_type": "stream",
          "name": "stdout",
          "text": [
            "False\n"
          ]
        }
      ]
    },
    {
      "cell_type": "code",
      "source": [
        "b = 15 <=20\n",
        "print(b)"
      ],
      "metadata": {
        "id": "qUcCjTJxhwm1",
        "outputId": "da22386c-574b-48d7-ee76-85bc8781af0d",
        "colab": {
          "base_uri": "https://localhost:8080/"
        }
      },
      "execution_count": 31,
      "outputs": [
        {
          "output_type": "stream",
          "name": "stdout",
          "text": [
            "True\n"
          ]
        }
      ]
    },
    {
      "cell_type": "code",
      "source": [
        "if a:\n",
        "    print('x')"
      ],
      "metadata": {
        "id": "qqqBevLYmE7b"
      },
      "execution_count": 32,
      "outputs": []
    },
    {
      "cell_type": "code",
      "source": [
        "if True:\n",
        "    print('x')"
      ],
      "metadata": {
        "id": "UQzmSC9ImEtI",
        "outputId": "afe612b5-7561-445a-cf10-6daf3507aa99",
        "colab": {
          "base_uri": "https://localhost:8080/"
        }
      },
      "execution_count": 33,
      "outputs": [
        {
          "output_type": "stream",
          "name": "stdout",
          "text": [
            "x\n"
          ]
        }
      ]
    },
    {
      "cell_type": "code",
      "source": [
        "if a and b:\n",
        "    print('x')"
      ],
      "metadata": {
        "id": "0eg3pFKjhwjt"
      },
      "execution_count": 34,
      "outputs": []
    },
    {
      "cell_type": "code",
      "source": [
        "if a or b:\n",
        "    print('x')"
      ],
      "metadata": {
        "id": "0U1ymjAGnTXY",
        "outputId": "2ed1d917-8a4b-4836-f47f-a4a81a76bb6a",
        "colab": {
          "base_uri": "https://localhost:8080/"
        }
      },
      "execution_count": 35,
      "outputs": [
        {
          "output_type": "stream",
          "name": "stdout",
          "text": [
            "x\n"
          ]
        }
      ]
    },
    {
      "cell_type": "markdown",
      "source": [
        "# HW\n",
        "เขียน function ตัดเกรด โดยที่ input เป็นคะแนน(0-100) , output เป็นเกรด (F-A) หรือ 'ไม่สามารถตัดเกรดได้'\n",
        "\n",
        "วนลูปตัดเกรด input = [1,50,65,90,101,-5,49,'ก',80]\n",
        "\n",
        "กำหนด\n",
        "\n",
        "*  ถ้าคะแนนอยู่ระหว่างมากกว่าหรือเท่ากับ  0  แต่น้อยกว่า 50 จะได้เกรด F\n",
        "*  ถ้าคะแนนอยู่ระหว่างมากกว่าหรือเท่ากับ 50 แต่น้อยกว่า 55 จะได้เกรด D\n",
        "*  ถ้าคะแนนอยู่ระหว่างมากกว่าหรือเท่ากับ 55 แต่น้อยกว่า 60 จะได้เกรด D+\n",
        "*  ถ้าคะแนนอยู่ระหว่างมากกว่าหรือเท่ากับ 60 แต่น้อยกว่า 65 จะได้เกรด C\n",
        "*  ถ้าคะแนนอยู่ระหว่างมากกว่าหรือเท่ากับ 65 แต่น้อยกว่า 70 จะได้เกรด C+\n",
        "*  ถ้าคะแนนอยู่ระหว่างมากกว่าหรือเท่ากับ 70 แต่น้อยกว่า 75 จะได้เกรด B\n",
        "*  ถ้าคะแนนอยู่ระหว่างมากกว่าหรือเท่ากับ 75 แต่น้อยกว่า 80 จะได้เกรด B+\n",
        "*  ถ้าคะแนนอยู่ระหว่างมากกว่าหรือเท่ากับ 80  จะได้เกรด A\n",
        "*  ถ้าคะแนนไม่อยู่ในช่วง 0-100 ให้ return 'ไม่สามารถตัดเกรดได้'\n"
      ],
      "metadata": {
        "id": "8a1qBlRXmDV7"
      }
    },
    {
      "cell_type": "code",
      "source": [
        "input = [1,50,65,90,101,-5,49,'ก',80]"
      ],
      "metadata": {
        "id": "45tgWLP6mKET"
      },
      "execution_count": 36,
      "outputs": []
    },
    {
      "cell_type": "code",
      "source": [
        "print(input)\n",
        "for i in input:\n",
        "    if type(i) == type(\"\"):\n",
        "        print (f'คะแนน {i} ไม่สามารถตัดเกรดได้')\n",
        "    else:\n",
        "        if i >= 101:\n",
        "            print (f'คะแนน {i} ไม่สามารถตัดเกรดได้')    \n",
        "        elif i >= 80:\n",
        "            print (f'คะแนน {i} ได้เกรด A')     \n",
        "        elif i >= 75:\n",
        "            print (f'คะแนน {i} ได้เกรด B+')    \n",
        "        elif i >= 70:\n",
        "            print (f'คะแนน {i} ได้เกรด B')    \n",
        "        elif i >= 65:\n",
        "            print (f'คะแนน {i} ได้เกรด C+')\n",
        "        elif  i >= 60:\n",
        "            print (f'คะแนน {i} ได้เกรด C')\n",
        "        elif  i >= 55:\n",
        "            print (f'คะแนน {i} ได้เกรด D+')\n",
        "        elif  i >= 50:\n",
        "            print (f'คะแนน {i} ได้เกรด D')\n",
        "        elif  i >= 0:\n",
        "            print (f'คะแนน {i} ได้เกรด F')\n",
        "        else:\n",
        "            print (f'คะแนน {i} ไม่สามารถตัดเกรดได้')\n",
        "    print('______________________________________')"
      ],
      "metadata": {
        "id": "gW31vrfSNkig",
        "outputId": "419fdab6-9998-4cac-c499-1793aade925b",
        "colab": {
          "base_uri": "https://localhost:8080/"
        }
      },
      "execution_count": 38,
      "outputs": [
        {
          "output_type": "stream",
          "name": "stdout",
          "text": [
            "[1, 50, 65, 90, 101, -5, 49, 'ก', 80]\n",
            "คะแนน 1 ได้เกรด F\n",
            "______________________________________\n",
            "คะแนน 50 ได้เกรด D\n",
            "______________________________________\n",
            "คะแนน 65 ได้เกรด C+\n",
            "______________________________________\n",
            "คะแนน 90 ได้เกรด A\n",
            "______________________________________\n",
            "คะแนน 101 ไม่สามารถตัดเกรดได้\n",
            "______________________________________\n",
            "คะแนน -5 ไม่สามารถตัดเกรดได้\n",
            "______________________________________\n",
            "คะแนน 49 ได้เกรด F\n",
            "______________________________________\n",
            "คะแนน ก ไม่สามารถตัดเกรดได้\n",
            "______________________________________\n",
            "คะแนน 80 ได้เกรด A\n",
            "______________________________________\n"
          ]
        }
      ]
    }
  ]
}